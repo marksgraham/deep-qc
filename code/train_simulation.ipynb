{
 "cells": [
  {
   "cell_type": "code",
   "execution_count": 1,
   "metadata": {
    "collapsed": false,
    "deletable": true,
    "editable": true
   },
   "outputs": [
    {
     "name": "stderr",
     "output_type": "stream",
     "text": [
      "Using TensorFlow backend.\n"
     ]
    }
   ],
   "source": [
    "import os\n",
    "import numpy as np\n",
    "import nibabel as nib\n",
    "import matplotlib\n",
    "import matplotlib.pyplot as plt\n",
    "from scipy.misc import imresize, imrotate\n",
    "import keras\n",
    "from keras.preprocessing.image import ImageDataGenerator\n",
    "from keras.applications.inception_v3 import preprocess_input, InceptionV3\n",
    "from keras.utils import to_categorical\n",
    "from sklearn.model_selection import train_test_split\n",
    "from keras.layers import Dense, GlobalAveragePooling2D\n",
    "from keras.models import Model\n",
    "import keras.backend as K\n",
    "from keras import models\n",
    "from keras.callbacks import ModelCheckpoint\n",
    "from time import gmtime, strftime\n",
    "from sklearn.metrics import confusion_matrix, accuracy_score, precision_score\n",
    "from sklearn.svm import SVC\n",
    "from sklearn.ensemble import RandomForestClassifier\n",
    "from sklearn.externals import joblib\n",
    "\n",
    "root_dir = os.path.abspath('..')\n",
    "%matplotlib inline"
   ]
  },
  {
   "cell_type": "code",
   "execution_count": 2,
   "metadata": {
    "collapsed": false,
    "deletable": true,
    "editable": true
   },
   "outputs": [],
   "source": [
    "def fetch_data(base_dir,num_subjects,mode='two_class'):\n",
    "    '''Load in simulated data and motion files.'''\n",
    "    subject_list = os.listdir((os.path.join(base_dir)))\n",
    "    subject_list = [item for item in subject_list if item.startswith('.') == False] #Filter .DS_STORE\n",
    "    subject_list = sorted(subject_list) #sort in numerical order to make OS independent\n",
    "    counter = 0\n",
    "    X = np.zeros((108*num_subjects,72,86,55))\n",
    "    y = np.zeros(108*num_subjects)\n",
    "    X_subject = np.zeros((72,86,55,108))\n",
    "    y_subject = np.zeros(108)\n",
    "    for subject_index, subject_number in enumerate(subject_list):\n",
    "        if subject_index < num_subjects:\n",
    "            data_path = os.path.join(base_dir,subject_number,'data.nii.gz')\n",
    "            if os.path.isfile(data_path):\n",
    "                data_header = nib.load(data_path)\n",
    "                X_subject = data_header.get_data()\n",
    "                for i in range(108):\n",
    "                    motion = np.loadtxt(os.path.join(base_dir,subject_number,'motion/motion'+str(i)+'.txt'))\n",
    "                    y_subject[i] = create_labels(motion, translation_threshold=2.5, rotation_threshold = 2.5,mode=mode)\n",
    "                start_index = counter*108\n",
    "                end_index = (counter+1)*108\n",
    "                X[start_index:end_index,:] = np.moveaxis(X_subject,3,0)\n",
    "                y[start_index:end_index] = y_subject\n",
    "                counter += 1\n",
    "    return X,y\n",
    "\n",
    "def create_labels(motion, translation_threshold=1, rotation_threshold = 1,mode='two_class'):\n",
    "    '''Take a POSSUM motion file and decide whether it contains signficant intra-volume movement.'''\n",
    "    max_motion = np.max(motion[:,1:],axis=0)\n",
    "    min_motion = np.min(motion[:,1:],axis=0)\n",
    "    diff_motion = np.abs(max_motion-min_motion)\n",
    "    diff_motion[:3] = diff_motion[:3]*1000\n",
    "    diff_motion[3:] = np.rad2deg(diff_motion[3:])\n",
    "    if mode == 'two_class':\n",
    "        if np.any( diff_motion[:3] > translation_threshold):\n",
    "            return 1\n",
    "        elif np.any(diff_motion[3:] > rotation_threshold):\n",
    "            return 1\n",
    "        else:\n",
    "            return 0\n",
    "    if mode == 'three_class':\n",
    "        if np.any( diff_motion[:3] > translation_threshold):\n",
    "            return 1    \n",
    "        elif np.any(diff_motion[3:] > rotation_threshold):\n",
    "            return 1\n",
    "        elif np.any( diff_motion[:3] > 1):\n",
    "            return 2    \n",
    "        elif np.any(diff_motion[3:] > 1):\n",
    "            return 2\n",
    "        else:\n",
    "            return 0\n",
    "def pad_image(image,pad_max):\n",
    "    if pad_max == 0:\n",
    "        return image\n",
    "    else:\n",
    "        pad_width = np.array([[pad_max,pad_max],[pad_max,pad_max]])-[image.shape,image.shape]\n",
    "        pad_width=np.transpose(pad_width)\n",
    "        pad_width[:,0] = np.floor(pad_width[:,0]/2)\n",
    "        pad_width[:,1] = np.ceil(pad_width[:,1]/2)\n",
    "        return np.lib.pad(image,pad_width,'constant',constant_values=(0))\n",
    "    \n",
    "def preprocess_data_saggital(X,target_height=299,target_width=299,is_training=False,\\\n",
    "                           flip=False,rotate_z=False,base_slice=36,sample_more_slices=True,\\\n",
    "                           pad_images=False,crop_image=False,rescale=False):\n",
    "    '''Convert each MR volume to three slices through a single plane, scales the data and resamples\n",
    "    to 299 by 299 pixels. Optionally performs augmentation.'''   \n",
    "    #slices = [22,36,50] #Planes to slice\n",
    "    slices = np.array([base_slice,base_slice,base_slice]) #Planes to slice\n",
    "    if pad_images == True:\n",
    "        pad_max = np.max(X.shape[2:]) #Width to pad images to\n",
    "    else:\n",
    "        pad_max = 0\n",
    "    num_volumes = X.shape[0]\n",
    "    height = X.shape[1]\n",
    "    width = X.shape[2]\n",
    "    num_slices = X.shape[3]\n",
    "    X_preprocessed = np.zeros((num_volumes,target_height,target_width,3))\n",
    "    if is_training == True:\n",
    "        for i in range(num_volumes):\n",
    "            vol = np.copy(np.squeeze(X[i,:]))\n",
    "            #Flip\n",
    "            if flip == True:\n",
    "                if np.random.uniform() > 0.5:\n",
    "                    vol = np.fliplr(vol)\n",
    "                if np.random.uniform() > 0.5:\n",
    "                    vol = np.flip(vol,2)\n",
    "            #Rotate about z\n",
    "            if rotate_z == True:\n",
    "                angle = np.random.randint(-20,20)\n",
    "                for slice_num in range(num_slices):\n",
    "                    vol[:,:,slice_num] = imrotate(vol[:,:,slice_num],angle,interp='bilinear')\n",
    "            #Sample different slice in plane\n",
    "            if sample_more_slices == True:\n",
    "                slices_new = slices + np.random.randint(-5,5)\n",
    "            else:\n",
    "                slices_new = slices\n",
    "            #Crop\n",
    "            if crop_image == True:\n",
    "                image_ratio = width / height\n",
    "                target_image_ratio = target_width / target_height\n",
    "                crop_vertically = image_ratio < target_image_ratio\n",
    "                crop_width = width if crop_vertically else int(height * target_image_ratio)\n",
    "                crop_height = int(width / target_image_ratio) if crop_vertically else height\n",
    "\n",
    "                # Now let's shrink this bounding box by a random factor (dividing the dimensions by a random number\n",
    "                # between 1.0 and 1.0 + `max_zoom`.\n",
    "                max_zoom = 0.8\n",
    "                resize_factor = np.random.rand() * max_zoom + 1.0\n",
    "                crop_width = int(crop_width / resize_factor)\n",
    "                crop_height = int(crop_height / resize_factor)\n",
    "\n",
    "                # Next, we can select a random location on the image for this bounding box.\n",
    "                x0 = np.random.randint(0, width - crop_width)\n",
    "                y0 = np.random.randint(0, height - crop_height)\n",
    "                x1 = x0 + crop_width\n",
    "                y1 = y0 + crop_height\n",
    "            else:\n",
    "                x0=0;y0=0;x1=width;y1=height\n",
    "            for j in range(3):\n",
    "                if (j == 0):\n",
    "                    X_preprocessed[i,:,:,j] = imresize(pad_image(vol[slices_new[j],y0:y1, x0:x1],pad_max),(target_width,target_height))\n",
    "                if (j == 1):\n",
    "                    X_preprocessed[i,:,:,j] = imresize(pad_image(vol[slices_new[j],y0:y1, x0:x1],pad_max),(target_width,target_height))\n",
    "                if (j == 2):\n",
    "                    X_preprocessed[i,:,:,j] = imresize(pad_image(vol[slices_new[j],y0:y1, x0:x1],pad_max),(target_width,target_height))     \n",
    "                    \n",
    "    else:\n",
    "        pad_max = np.max(X.shape[2:]) #Always pad for testing\n",
    "        for i in range(num_volumes):\n",
    "            for j in range(3):\n",
    "                if (j == 0):\n",
    "                    X_preprocessed[i,:,:,j] = imresize(pad_image(np.squeeze(X[i,slices[j],:,:]),pad_max),(target_width,target_height))\n",
    "                if (j == 1):\n",
    "                    X_preprocessed[i,:,:,j] = imresize(pad_image(np.squeeze(X[i,slices[j],:,:]),pad_max),(target_width,target_height))\n",
    "                if (j == 2):\n",
    "                    X_preprocessed[i,:,:,j] = imresize(pad_image(np.squeeze(X[i,slices[j],:,:]),pad_max),(target_width,target_height))     \n",
    "   \n",
    "    if rescale == True:\n",
    "        X_preprocessed = X_preprocessed.astype(np.float32)\n",
    "        X_preprocessed/= 255\n",
    "        X_preprocessed -= 0.5\n",
    "        X_preprocessed *= 2.\n",
    "    return X_preprocessed\n",
    "\n",
    "def preprocess_data_coronal(X,target_height=299,target_width=299, base_slice=36,rescale=False,):\n",
    "    '''Convert each MR volume to three slices through a single plane, scales the data and resamples\n",
    "    to 299 by 299 pixels. Optionally performs augmentation.'''   \n",
    "    #slices = [22,36,50] #Planes to slice\n",
    "    slices = np.array([base_slice,base_slice,base_slice]) #Planes to slice\n",
    "    pad_max = np.max([X.shape[1],X.shape[3]]) #Width to pad images to\n",
    "    \n",
    "    num_volumes = X.shape[0]\n",
    "    height = X.shape[1]\n",
    "    width = X.shape[3]\n",
    "    num_slices = X.shape[2]\n",
    "    X_preprocessed = np.zeros((num_volumes,target_height,target_width,3))\n",
    "\n",
    "    for i in range(num_volumes):\n",
    "        for j in range(3):\n",
    "            if (j == 0):\n",
    "                X_preprocessed[i,:,:,j] = imresize(pad_image(np.squeeze(X[i,:,slices[j],:]),pad_max),(target_width,target_height))\n",
    "            if (j == 1):\n",
    "                X_preprocessed[i,:,:,j] = imresize(pad_image(np.squeeze(X[i,:,slices[j],:]),pad_max),(target_width,target_height))\n",
    "            if (j == 2):\n",
    "                X_preprocessed[i,:,:,j] = imresize(pad_image(np.squeeze(X[i,:,slices[j],:]),pad_max),(target_width,target_height))     \n",
    "   \n",
    "    if rescale == True:\n",
    "        X_preprocessed = X_preprocessed.astype(np.float32)\n",
    "        X_preprocessed/= 255\n",
    "        X_preprocessed -= 0.5\n",
    "        X_preprocessed *= 2.\n",
    "    return X_preprocessed"
   ]
  },
  {
   "cell_type": "code",
   "execution_count": 3,
   "metadata": {
    "collapsed": false,
    "deletable": true,
    "editable": true
   },
   "outputs": [
    {
     "name": "stdout",
     "output_type": "stream",
     "text": [
      "716\n",
      "280\n",
      "84\n"
     ]
    }
   ],
   "source": [
    "mode='three_class'\n",
    "view = 'coronal'\n",
    "#view = 'saggital'\n",
    "\n",
    "X, y = fetch_data(os.path.join(root_dir,'data/sims-moremotion'),10,mode=mode)\n",
    "print('Volumes with no motion:',np.sum(y==0))\n",
    "print('Volumes with severe motion:',np.sum(y==1))\n",
    "print('Volumes with moderate motion:',np.sum(y==2))\n",
    "\n",
    "\n",
    "num_vols = 108\n",
    "num_train = 8\n",
    "num_test = 2\n",
    "slices_to_extract = [20,36,52]\n",
    "\n",
    "X_train = np.zeros((num_vols*num_train*len(slices_to_extract),299,299,3))\n",
    "X_test = np.zeros((num_vols*num_test*len(slices_to_extract),299,299,3))\n",
    "y_train = np.zeros((num_vols*num_train*len(slices_to_extract)))\n",
    "y_test = np.zeros((num_vols*num_test*len(slices_to_extract)))\n",
    "\n",
    "for slice_num, slice_indx in enumerate(slices_to_extract):\n",
    "    start_indx_train = slice_num * num_vols*num_train\n",
    "    end_indx_train = (slice_num+1) * num_vols*num_train\n",
    "    start_indx_test = slice_num * num_vols*num_test\n",
    "    end_indx_test = (slice_num+1) * num_vols*num_test\n",
    "    if view == 'coronal':\n",
    "        X_preprocessed = preprocess_data_coronal(X,base_slice=slice_indx)\n",
    "    elif view == 'saggital':\n",
    "        X_preprocessed = preprocess_data_saggital(X,base_slice=slice_indx)\n",
    "    else:\n",
    "        print('View not recognised')\n",
    "\n",
    "    X_train[start_indx_train:end_indx_train,:] = X_preprocessed[:num_vols*num_train]\n",
    "    X_test[start_indx_test:end_indx_test,:] = X_preprocessed[num_vols*num_train:]\n",
    "    y_train[start_indx_train:end_indx_train]= y[:num_vols*num_train]\n",
    "    y_test[start_indx_test:end_indx_test]=y[num_vols*num_train:]\n",
    "\n",
    "if mode=='three_class':\n",
    "    X_train = np.delete(X_train,np.where(y_train==2),0)\n",
    "    y_train = np.delete(y_train,np.where(y_train==2),0)\n",
    "    X_test = np.delete(X_test,np.where(y_test==2),0)\n",
    "    y_test = np.delete(y_test,np.where(y_test==2),0)\n",
    "    \n",
    "#Clear memory\n",
    "del X,y, X_preprocessed"
   ]
  },
  {
   "cell_type": "code",
   "execution_count": 4,
   "metadata": {
    "collapsed": false
   },
   "outputs": [
    {
     "name": "stdout",
     "output_type": "stream",
     "text": [
      "(2391, 299, 299, 3)\n",
      "(2391,)\n",
      "(597, 299, 299, 3)\n",
      "(597,)\n"
     ]
    }
   ],
   "source": [
    "print(X_train.shape)\n",
    "print(y_train.shape)\n",
    "print(X_test.shape)\n",
    "print(y_test.shape)"
   ]
  },
  {
   "cell_type": "code",
   "execution_count": 17,
   "metadata": {
    "collapsed": false,
    "deletable": true,
    "editable": true
   },
   "outputs": [
    {
     "name": "stdout",
     "output_type": "stream",
     "text": [
      "195\n",
      "1.0\n"
     ]
    },
    {
     "data": {
      "image/png": "[encoded data removed]",
      "text/plain": [
       "<matplotlib.figure.Figure at 0x7feb5108b240>"
      ]
     },
     "metadata": {},
     "output_type": "display_data"
    }
   ],
   "source": [
    "y_train_motion =np.where(y_train==1)[0]\n",
    "\n",
    "index=50\n",
    "print(y_train_motion[index])\n",
    "plt.imshow(X_train[y_train_motion[index],:,:,0])\n",
    "print(y_train[y_train_motion[index]])"
   ]
  },
  {
   "cell_type": "code",
   "execution_count": 18,
   "metadata": {
    "collapsed": false,
    "deletable": true,
    "editable": true
   },
   "outputs": [],
   "source": [
    "train_generator = ImageDataGenerator(\n",
    "    featurewise_center=False,\n",
    "    samplewise_center=False,\n",
    "    featurewise_std_normalization=False,\n",
    "    samplewise_std_normalization=False,\n",
    "    zca_whitening=False,\n",
    "    zca_epsilon=1e-6,\n",
    "    rotation_range=0.,\n",
    "    width_shift_range=0.,\n",
    "    height_shift_range=0.,\n",
    "    shear_range=0.0,\n",
    "    zoom_range=0.,\n",
    "    channel_shift_range=0.,\n",
    "    fill_mode='nearest',\n",
    "    cval=0.,\n",
    "    horizontal_flip=False,\n",
    "    vertical_flip=False,\n",
    "    rescale=None,\n",
    "    preprocessing_function=preprocess_input,\n",
    "    data_format='channels_last')\n",
    "\n",
    "validation_generator = ImageDataGenerator(\n",
    "    featurewise_center=False,\n",
    "    samplewise_center=False,\n",
    "    featurewise_std_normalization=False,\n",
    "    samplewise_std_normalization=False,\n",
    "    zca_whitening=False,\n",
    "    zca_epsilon=1e-6,\n",
    "    rotation_range=0.,\n",
    "    width_shift_range=0.,\n",
    "    height_shift_range=0.,\n",
    "    shear_range=0.0,\n",
    "    zoom_range=0.0,\n",
    "    channel_shift_range=0.,\n",
    "    fill_mode='nearest',\n",
    "    cval=0.,\n",
    "    horizontal_flip=False,\n",
    "    vertical_flip=False,\n",
    "    rescale=None,\n",
    "    preprocessing_function=preprocess_input,\n",
    "    data_format='channels_last',)\n",
    "\n",
    "train_batch_size = 54\n",
    "validation_batch_size = 54\n",
    "train_examples = X_train.shape[0]\n",
    "validation_examples = X_test.shape[0]\n",
    "train_data = train_generator.flow(X_train,to_categorical(y_train,2),batch_size=train_batch_size,shuffle=True)\n",
    "validation_data = validation_generator.flow(X_test,to_categorical(y_test,2),batch_size=validation_batch_size,shuffle=False)\n",
    "\n",
    "\n",
    "#     ctr = 0\n",
    "#     for batch in train_data:\n",
    "#         im = np.squeeze(batch[0][6,:])\n",
    "#         print(im.shape)\n",
    "#         plt.imshow(im)\n",
    "#         ctr += 1\n",
    "#         if ctr > 0:\n",
    "#             break"
   ]
  },
  {
   "cell_type": "code",
   "execution_count": 20,
   "metadata": {
    "collapsed": false,
    "deletable": true,
    "editable": true
   },
   "outputs": [
    {
     "name": "stdout",
     "output_type": "stream",
     "text": [
      "Percentage motion-free in train set: 0.7252195734\n",
      "Number with motion in train set: 657.0\n",
      "Percentage motion-free in test set: 0.693467336683\n",
      "Number with motion in test set: 183.0\n"
     ]
    }
   ],
   "source": [
    "print('Percentage motion-free in train set:',1-np.sum(y_train)/len(y_train))\n",
    "print('Number with motion in train set:',np.sum(y_train))\n",
    "\n",
    "print('Percentage motion-free in test set:',1-np.sum(y_test)/len(y_test))\n",
    "print('Number with motion in test set:',np.sum(y_test))"
   ]
  },
  {
   "cell_type": "code",
   "execution_count": 21,
   "metadata": {
    "collapsed": false,
    "deletable": true,
    "editable": true
   },
   "outputs": [
    {
     "name": "stdout",
     "output_type": "stream",
     "text": [
      "Downloading data from https://github.com/fchollet/deep-learning-models/releases/download/v0.5/inception_v3_weights_tf_dim_ordering_tf_kernels_notop.h5\n",
      "87531520/87910968 [============================>.] - ETA: 0s"
     ]
    }
   ],
   "source": [
    "#Set up inception v3 for transfer learning\n",
    "base_model = InceptionV3(weights='imagenet',include_top=False)"
   ]
  },
  {
   "cell_type": "code",
   "execution_count": 22,
   "metadata": {
    "collapsed": false,
    "deletable": true,
    "editable": true
   },
   "outputs": [],
   "source": [
    "x = base_model.output\n",
    "x = GlobalAveragePooling2D()(x)\n",
    "x = Dense(16,activation='relu')(x)\n",
    "predictions = Dense(2,activation='softmax')(x)\n",
    "\n",
    "\n",
    "    \n",
    "model = Model(inputs=base_model.input,outputs=predictions)\n",
    "\n",
    "for layer in base_model.layers:\n",
    "    layer.trainable = False\n",
    "    \n",
    "model.compile(optimizer='adam',\n",
    "             loss='binary_crossentropy',\n",
    "                 metrics=['accuracy'])"
   ]
  },
  {
   "cell_type": "code",
   "execution_count": 26,
   "metadata": {
    "collapsed": false,
    "deletable": true,
    "editable": true
   },
   "outputs": [
    {
     "name": "stdout",
     "output_type": "stream",
     "text": [
      "44.27777777777778\n",
      "11.055555555555555\n",
      "Model name: keras_logs/2017-10-12-09-40-40\n",
      "Epoch 1/30\n",
      "45/44 [==============================] - 49s - loss: 0.1995 - acc: 0.9347 - val_loss: 0.2784 - val_acc: 0.9095\n",
      "Epoch 2/30\n",
      "45/44 [==============================] - 49s - loss: 0.1968 - acc: 0.9434 - val_loss: 0.2372 - val_acc: 0.9296\n",
      "Epoch 3/30\n",
      "45/44 [==============================] - 50s - loss: 0.1869 - acc: 0.9405 - val_loss: 0.2317 - val_acc: 0.9246\n",
      "Epoch 4/30\n",
      "45/44 [==============================] - 50s - loss: 0.1761 - acc: 0.9440 - val_loss: 0.2591 - val_acc: 0.9095\n",
      "Epoch 5/30\n",
      "45/44 [==============================] - 50s - loss: 0.1560 - acc: 0.9547 - val_loss: 0.2247 - val_acc: 0.9263\n",
      "Epoch 6/30\n",
      "45/44 [==============================] - 50s - loss: 0.1814 - acc: 0.9395 - val_loss: 0.2307 - val_acc: 0.9179\n",
      "Epoch 7/30\n",
      "45/44 [==============================] - 49s - loss: 0.1415 - acc: 0.9609 - val_loss: 0.2461 - val_acc: 0.9162\n",
      "Epoch 8/30\n",
      "45/44 [==============================] - 49s - loss: 0.1687 - acc: 0.9401 - val_loss: 0.2021 - val_acc: 0.9347\n",
      "Epoch 9/30\n",
      "45/44 [==============================] - 49s - loss: 0.1697 - acc: 0.9393 - val_loss: 0.2312 - val_acc: 0.9162\n",
      "Epoch 10/30\n",
      "45/44 [==============================] - 54s - loss: 0.1430 - acc: 0.9514 - val_loss: 0.2145 - val_acc: 0.9229\n",
      "Epoch 11/30\n",
      "45/44 [==============================] - 49s - loss: 0.1316 - acc: 0.9588 - val_loss: 0.2283 - val_acc: 0.9112\n",
      "Epoch 12/30\n",
      "45/44 [==============================] - 49s - loss: 0.1316 - acc: 0.9514 - val_loss: 0.1791 - val_acc: 0.9363\n",
      "Epoch 13/30\n",
      "45/44 [==============================] - 50s - loss: 0.1338 - acc: 0.9555 - val_loss: 0.1807 - val_acc: 0.9380\n",
      "Epoch 14/30\n",
      "45/44 [==============================] - 49s - loss: 0.1260 - acc: 0.9580 - val_loss: 0.1770 - val_acc: 0.9430\n",
      "Epoch 15/30\n",
      "45/44 [==============================] - 49s - loss: 0.1363 - acc: 0.9566 - val_loss: 0.1974 - val_acc: 0.9330\n",
      "Epoch 16/30\n",
      "45/44 [==============================] - 50s - loss: 0.1266 - acc: 0.9568 - val_loss: 0.2128 - val_acc: 0.9296\n",
      "Epoch 17/30\n",
      "45/44 [==============================] - 49s - loss: 0.1215 - acc: 0.9631 - val_loss: 0.1767 - val_acc: 0.9430\n",
      "Epoch 18/30\n",
      "45/44 [==============================] - 49s - loss: 0.1029 - acc: 0.9662 - val_loss: 0.1798 - val_acc: 0.9397\n",
      "Epoch 19/30\n",
      "45/44 [==============================] - 49s - loss: 0.1227 - acc: 0.9547 - val_loss: 0.2183 - val_acc: 0.9229\n",
      "Epoch 20/30\n",
      "45/44 [==============================] - 50s - loss: 0.1093 - acc: 0.9623 - val_loss: 0.2787 - val_acc: 0.8861\n",
      "Epoch 21/30\n",
      "45/44 [==============================] - 49s - loss: 0.1214 - acc: 0.9557 - val_loss: 0.1814 - val_acc: 0.9481\n",
      "Epoch 22/30\n",
      "45/44 [==============================] - 50s - loss: 0.1108 - acc: 0.9613 - val_loss: 0.2603 - val_acc: 0.9028\n",
      "Epoch 23/30\n",
      "45/44 [==============================] - 49s - loss: 0.1509 - acc: 0.9485 - val_loss: 0.2928 - val_acc: 0.8827\n",
      "Epoch 24/30\n",
      "45/44 [==============================] - 50s - loss: 0.1037 - acc: 0.9658 - val_loss: 0.1802 - val_acc: 0.9514\n",
      "Epoch 25/30\n",
      "45/44 [==============================] - 49s - loss: 0.1017 - acc: 0.9648 - val_loss: 0.1825 - val_acc: 0.9464\n",
      "Epoch 26/30\n",
      "45/44 [==============================] - 50s - loss: 0.1158 - acc: 0.9650 - val_loss: 0.2386 - val_acc: 0.9229\n",
      "Epoch 27/30\n",
      "45/44 [==============================] - 49s - loss: 0.1201 - acc: 0.9566 - val_loss: 0.2073 - val_acc: 0.9363\n",
      "Epoch 28/30\n",
      "45/44 [==============================] - 49s - loss: 0.1183 - acc: 0.9578 - val_loss: 0.1841 - val_acc: 0.9464\n",
      "Epoch 29/30\n",
      "45/44 [==============================] - 49s - loss: 0.1053 - acc: 0.9619 - val_loss: 0.2005 - val_acc: 0.9380\n",
      "Epoch 30/30\n",
      "45/44 [==============================] - 50s - loss: 0.0974 - acc: 0.9677 - val_loss: 0.2043 - val_acc: 0.9363\n",
      "[[390  24]\n",
      " [ 14 169]]\n"
     ]
    }
   ],
   "source": [
    "now = strftime(\"%Y-%m-%d-%H-%M-%S\", gmtime())\n",
    "filename = 'keras_logs/'+now+'.epoch{epoch:02d}-lossval{val_loss:.2f}.hdf5'\n",
    "checkpoint = ModelCheckpoint(filepath=filename,\n",
    "                            period=10)\n",
    "\n",
    "train_steps_per_epoch = train_examples/train_batch_size\n",
    "validation_steps_per_epoch = validation_examples/validation_batch_size\n",
    "print(train_steps_per_epoch)\n",
    "print(validation_steps_per_epoch)\n",
    "num_epochs = 30\n",
    "\n",
    "\n",
    "\n",
    "\n",
    "print('Model name:','keras_logs/'+now)\n",
    "history = model.fit_generator(generator = train_data,\n",
    "                           steps_per_epoch=train_steps_per_epoch,\n",
    "                           epochs = num_epochs,\n",
    "                           validation_data = validation_data,\n",
    "                           validation_steps = validation_steps_per_epoch,\n",
    "                           class_weight=[1,5],\n",
    "                            callbacks=[checkpoint])\n",
    "\n",
    "validation_data = validation_generator.flow(X_test,to_categorical(y_test,2),batch_size=validation_batch_size,shuffle=False)\n",
    "y_pred = model.predict_generator(validation_data,validation_steps_per_epoch)[:,1] > 0.5\n",
    "print(confusion_matrix(y_test,y_pred))"
   ]
  },
  {
   "cell_type": "code",
   "execution_count": null,
   "metadata": {
    "collapsed": false,
    "deletable": true,
    "editable": true
   },
   "outputs": [],
   "source": [
    "#Get predictions for many slices of the train set\n",
    "validation_generator = ImageDataGenerator(\n",
    "    featurewise_center=False,\n",
    "    samplewise_center=False,\n",
    "    featurewise_std_normalization=False,\n",
    "    samplewise_std_normalization=False,\n",
    "    zca_whitening=False,\n",
    "    zca_epsilon=1e-6,\n",
    "    rotation_range=0.,\n",
    "    width_shift_range=0.,\n",
    "    height_shift_range=0.,\n",
    "    shear_range=0.0,\n",
    "    zoom_range=0.0,\n",
    "    channel_shift_range=0.,\n",
    "    fill_mode='nearest',\n",
    "    cval=0.,\n",
    "    horizontal_flip=False,\n",
    "    vertical_flip=False,\n",
    "    rescale=None,\n",
    "    preprocessing_function=preprocess_input,\n",
    "    data_format='channels_last',)\n",
    "\n",
    "model_coronal =   models.load_model('keras_logs/coronal_model.hdf5')\n",
    "model_saggital =   models.load_model('keras_logs/saggital_model.hdf5')\n",
    "\n",
    "#Free up some mem\n",
    "#del X_train, X_test\n",
    "num_slices = 30\n",
    "\n",
    "num_volumes = 648\n",
    "X, y = fetch_data(os.path.join(root_dir,'data/sims-moremotion'),8)\n",
    "y_train = y[:num_volumes]\n",
    "X_train = X[:num_volumes,:,:,:]\n",
    "del X, y\n",
    "\n",
    "validation_batch_size = 54\n",
    "num_generator_steps = int(num_volumes/validation_batch_size)\n",
    "\n",
    "model_predictions_coronal_train = np.zeros((num_volumes,num_slices))\n",
    "model_predictions_saggital_train = np.zeros((num_volumes,num_slices))\n",
    "\n",
    "for i in range(num_slices):\n",
    "    #coronal\n",
    "    X_test_slice = preprocess_data_coronal(X_train,base_slice = 25+i)  \n",
    "    #Redefine validation generator to reset\n",
    "    validation_data_for_testing = validation_generator.flow(X_test_slice,y_train,batch_size=validation_batch_size,shuffle=False)\n",
    "    model_predictions_coronal_train[:,i] = model_coronal.predict_generator(validation_data_for_testing,num_generator_steps)[:,1]\n",
    "    del X_test_slice\n",
    "    \n",
    "    #saggital\n",
    "    X_test_slice = preprocess_data_saggital(X_train,base_slice = 25+i)  \n",
    "    #Redefine validation generator to reset\n",
    "    validation_data_for_testing = validation_generator.flow(X_test_slice,y_train,batch_size=validation_batch_size,shuffle=False)\n",
    "    model_predictions_saggital_train[:,i] = model_saggital.predict_generator(validation_data_for_testing,num_generator_steps)[:,1]\n",
    "    del X_test_slice\n",
    "    print('Slices complete:',i)"
   ]
  },
  {
   "cell_type": "code",
   "execution_count": null,
   "metadata": {
    "collapsed": false,
    "deletable": true,
    "editable": true
   },
   "outputs": [],
   "source": [
    "#Train classifier on predictions and gt\n",
    "\n",
    "svm_classifier = SVC(kernel='linear')\n",
    "predictions_combined_train = np.concatenate((model_predictions_coronal_train,model_predictions_saggital_train),axis=1)\n",
    "#predictions_combined_train = model_predictions_coronal_train\n",
    "svm_classifier.fit(predictions_combined_train,y_train)\n",
    "y_pred = svm_classifier.predict(predictions_combined_train)\n",
    "print(accuracy_score(y_train,y_pred))\n",
    "print(confusion_matrix(y_train,y_pred))\n",
    "\n",
    "\n",
    "rf_classifier = RandomForestClassifier(n_estimators=3)\n",
    "rf_classifier.fit(predictions_combined_train,y_train)\n",
    "y_pred_rf = rf_classifier.predict(predictions_combined_train)\n",
    "print(accuracy_score(y_train,y_pred_rf))\n",
    "print(confusion_matrix(y_train,y_pred_rf))\n",
    "\n",
    "#Save relevant files\n",
    "\n",
    "np.save('misc_files/predictions_combined_train',predictions_combined_train)\n",
    "np.save('misc_files/y_train',y_train)\n",
    "joblib.dump(svm_classifier, 'misc_files/svm_classifier.pkl') \n",
    "joblib.dump(rf_classifier, 'misc_files/rf_classifier.pkl') "
   ]
  },
  {
   "cell_type": "code",
   "execution_count": 28,
   "metadata": {
    "collapsed": false,
    "deletable": true,
    "editable": true
   },
   "outputs": [
    {
     "name": "stdout",
     "output_type": "stream",
     "text": [
      "(216,)\n",
      "Slices complete: 0\n",
      "Slices complete: 1\n",
      "Slices complete: 2\n",
      "Slices complete: 3\n",
      "Slices complete: 4\n",
      "Slices complete: 5\n",
      "Slices complete: 6\n",
      "Slices complete: 7\n",
      "Slices complete: 8\n",
      "Slices complete: 9\n",
      "Slices complete: 10\n",
      "Slices complete: 11\n",
      "Slices complete: 12\n",
      "Slices complete: 13\n",
      "Slices complete: 14\n",
      "Slices complete: 15\n",
      "Slices complete: 16\n",
      "Slices complete: 17\n",
      "Slices complete: 18\n",
      "Slices complete: 19\n",
      "Slices complete: 20\n",
      "Slices complete: 21\n",
      "Slices complete: 22\n",
      "Slices complete: 23\n",
      "Slices complete: 24\n",
      "Slices complete: 25\n",
      "Slices complete: 26\n",
      "Slices complete: 27\n",
      "Slices complete: 28\n",
      "Slices complete: 29\n"
     ]
    }
   ],
   "source": [
    "#Test on many slices of validation set\n",
    "from sklearn.metrics import confusion_matrix, accuracy_score\n",
    "from keras import models\n",
    "#from sklearn.model_selection import accuracy\n",
    "\n",
    "#model_coronal =   models.load_model('keras_logs/coronal_model.hdf5')\n",
    "#model_saggital=   models.load_model('keras_logs/saggital_model.hdf5')\n",
    "model_coronal =   model#models.load_model('keras_logs/2017-10-05-14-39-37.epoch29-lossval0.29.hdf5')\n",
    "#model_saggital =   models.load_model('keras_logs/2017-10-05-13-58-21.epoch29-lossval0.20.hdf5')\n",
    "\n",
    "\n",
    "X, y = fetch_data(os.path.join(root_dir,'data/sims-moremotion'),10)\n",
    "num_volumes = 216\n",
    "y_val = y[864:]\n",
    "X_val = X[864:,:,:,:]\n",
    "print(y_val.shape)\n",
    "del X, y\n",
    "\n",
    "num_slices = 30\n",
    "validation_batch_size = 54\n",
    "num_generator_steps = int(num_volumes/validation_batch_size)\n",
    "\n",
    "model_predictions_coronal_val = np.zeros((num_volumes,num_slices))\n",
    "model_predictions_saggital_val = np.zeros((num_volumes,num_slices))\n",
    "\n",
    "for i in range(num_slices):\n",
    "    #coronal\n",
    "    X_val_slice = preprocess_data_coronal(X_val,base_slice = 25+i)  \n",
    "    #Redefine validation generator to reset\n",
    "    validation_data_for_testing = validation_generator.flow(X_val_slice,to_categorical(y_val,2),batch_size=validation_batch_size,shuffle=False)\n",
    "    model_predictions_coronal_val[:,i] = model_coronal.predict_generator(validation_data_for_testing,num_generator_steps)[:,1]\n",
    "    \n",
    "#     #saggital\n",
    "#     X_val_slice = preprocess_data_planar(X_val,base_slice = 25+i)  \n",
    "#     #Redefine validation generator to reset\n",
    "#     validation_data_for_testing = validation_generator.flow(X_val_slice,to_categorical(y_val,2),batch_size=validation_batch_size,shuffle=False)\n",
    "#     model_predictions_saggital_val[:,i] = model_saggital.predict_generator(validation_data_for_testing,num_generator_steps)[:,1]\n",
    "    print('Slices complete:',i)\n",
    "\n"
   ]
  },
  {
   "cell_type": "code",
   "execution_count": 29,
   "metadata": {
    "collapsed": false,
    "deletable": true,
    "editable": true
   },
   "outputs": [
    {
     "name": "stdout",
     "output_type": "stream",
     "text": [
      "0.981481481481\n",
      "[[154   1]\n",
      " [  3  58]]\n"
     ]
    }
   ],
   "source": [
    "#predictions_combined_val = np.concatenate((model_predictions_coronal_val,model_predictions_saggital_val),axis=1)\n",
    "predictions_combined_val=model_predictions_coronal_val\n",
    "\n",
    "y_pred_val = np.mean(predictions_combined_val,axis=1)>0.5\n",
    "print(accuracy_score(y_val,y_pred_val))\n",
    "print(confusion_matrix(y_val,y_pred_val))\n",
    "\n",
    "# y_pred_val = svm_classifier.predict(predictions_combined_val)\n",
    "# print(accuracy_score(y_val,y_pred_val))\n",
    "# print(confusion_matrix(y_val,y_pred_val))\n",
    "# y_pred_val_rf = rf_classifier.predict(predictions_combined_val)\n",
    "# print(accuracy_score(y_val,y_pred_val_rf))\n",
    "# print(confusion_matrix(y_val,y_pred_val_rf))\n",
    "\n",
    "#Save relevant files\n",
    "#from sklearn.externals import joblib\n",
    "#np.save('misc_files/predictions_combined_val',predictions_combined_val)\n",
    "#np.save('misc_files/y_val',y_val)"
   ]
  },
  {
   "cell_type": "markdown",
   "metadata": {
    "deletable": true,
    "editable": true
   },
   "source": [
    "# Visualise "
   ]
  },
  {
   "cell_type": "code",
   "execution_count": 31,
   "metadata": {
    "collapsed": false
   },
   "outputs": [
    {
     "name": "stdout",
     "output_type": "stream",
     "text": [
      "[[154   1]\n",
      " [  3  58]]\n"
     ]
    }
   ],
   "source": [
    "#Load back in results\n",
    "#y_predictions_combined = np.load('misc_files/predictions_combined_val.npy')\n",
    "#y_val = np.load('misc_files/y_val.npy')\n",
    "#svm_classifier = joblib.load('misc_files/svm_classifier.pkl') \n",
    "#y_pred_val = svm_classifier.predict(y_predictions_combined)\n",
    "#y_pred_val = np.mean(y_predictions_combined,axis=1) > 0.5 \n",
    "print(confusion_matrix(y_val,y_pred_val))\n"
   ]
  },
  {
   "cell_type": "code",
   "execution_count": 32,
   "metadata": {
    "collapsed": true,
    "deletable": true,
    "editable": true
   },
   "outputs": [],
   "source": [
    "from sklearn.metrics import accuracy_score, confusion_matrix\n",
    "from matplotlib import animation\n",
    "from matplotlib import animation, rc\n",
    "from IPython.display import HTML\n",
    "\n",
    "\n",
    "ind_true_pos = [indx for indx,y in enumerate(y_val) if (y_val[indx] == 1) and (y_pred_val[indx] == 1) ]\n",
    "ind_true_neg = [indx for indx,y in enumerate(y_val) if (y_val[indx] == 0) and (y_pred_val[indx] == 0) ]\n",
    "ind_false_neg = [indx for indx,y in enumerate(y_val) if (y_val[indx] == 1) and (y_pred_val[indx] == 0) ]\n",
    "ind_false_pos = [indx for indx,y in enumerate(y_val) if (y_val[indx] == 0) and (y_pred_val[indx] == 1) ]"
   ]
  },
  {
   "cell_type": "code",
   "execution_count": 61,
   "metadata": {
    "collapsed": false
   },
   "outputs": [
    {
     "name": "stdout",
     "output_type": "stream",
     "text": [
      "1.0\n",
      "0.999888038635\n"
     ]
    },
    {
     "data": {
      "image/png": "[encoded data removed]",
      "text/plain": [
       "<matplotlib.figure.Figure at 0x7feaa67dbcc0>"
      ]
     },
     "metadata": {},
     "output_type": "display_data"
    }
   ],
   "source": [
    "#Static plot sof results\n",
    "plt.figure(figsize=(12,12))\n",
    "index =35\n",
    "slice_=53\n",
    "index2 = ind_true_pos[index]\n",
    "plt.subplot(1,2,1)\n",
    "plt.imshow(np.rot90(X_val[index2,:,slice_,:]))\n",
    "print(y_val[index2])\n",
    "print(np.mean(predictions_combined_val[index2,:]))"
   ]
  },
  {
   "cell_type": "code",
   "execution_count": null,
   "metadata": {
    "collapsed": false,
    "deletable": true,
    "editable": true
   },
   "outputs": [],
   "source": [
    "#Animated plot of confusion-matrix\n",
    "#X, y = fetch_data(os.path.join(root_dir,'data/sims'),8)\n",
    "X_test_preprocessed = preprocess_data_planar(X[648:,:,:,:])\n",
    "#del X, y\n",
    "\n",
    "X_test_preprocessed_plot = X_test_preprocessed.astype(np.float32)/255\n",
    "#X_test_preprocessed_plot += 0.5\n",
    "\n",
    "fig=plt.figure(figsize=(12,12))\n",
    "ax1 = fig.add_subplot(221)\n",
    "ax2 = fig.add_subplot(222)\n",
    "ax3 = fig.add_subplot(223)\n",
    "ax4 = fig.add_subplot(224)\n",
    "\n",
    "image1 = ax1.imshow(np.zeros((X_test_preprocessed_plot.shape[1],X_test_preprocessed_plot.shape[2],3))); ax1.axis('off')\n",
    "image2 = ax2.imshow(np.zeros((X_test_preprocessed_plot.shape[1],X_test_preprocessed_plot.shape[2],3))); ax2.axis('off')\n",
    "image3 = ax3.imshow(np.zeros((X_test_preprocessed_plot.shape[1],X_test_preprocessed_plot.shape[2],3))); ax3.axis('off')\n",
    "image4 = ax4.imshow(np.zeros((X_test_preprocessed_plot.shape[1],X_test_preprocessed_plot.shape[2],3))); ax4.axis('off')\n",
    "fig.text(0.5, 0.94, 'Predictions', ha='center',weight='bold')\n",
    "fig.text(0.06, 0.5, 'Actual', ha='center',weight='bold')\n",
    "fig.text(0.08, 0.7, 'False', ha='center')\n",
    "fig.text(0.08, 0.3, 'True', ha='center')\n",
    "fig.text(0.32, 0.9, 'False', ha='center')\n",
    "fig.text(0.7, 0.9, 'True', ha='center')\n",
    "fig.text(0.47, 0.52, str(len(ind_true_neg)), ha='center',color='white')\n",
    "fig.text(0.55, 0.52, str(len(ind_false_pos)), ha='center',color='white')\n",
    "fig.text(0.47, 0.45, str(len(ind_false_neg)), ha='center',color='white')\n",
    "fig.text(0.55, 0.45, str(len(ind_true_pos)), ha='center',color='white')\n",
    "\n",
    "matplotlib.rcParams.update({'font.size': 20})\n",
    "fig.subplots_adjust(hspace=0.03, wspace=0.02)\n",
    "plt.close()\n",
    "\n",
    "def init():\n",
    "    image1.set_data(np.zeros((X_test_preprocessed_plot.shape[1],X_test_preprocessed_plot.shape[2]))); \n",
    "    image2.set_data(np.zeros((X_test_preprocessed_plot.shape[1],X_test_preprocessed_plot.shape[2])))\n",
    "    image3.set_data(np.zeros((X_test_preprocessed_plot.shape[1],X_test_preprocessed_plot.shape[2])))\n",
    "    image4.set_data(np.zeros((X_test_preprocessed_plot.shape[1],X_test_preprocessed_plot.shape[2])))\n",
    "    \n",
    "    return image1,image2,image3,image4,\n",
    "\n",
    "def animate(i):\n",
    "    image1.set_data(np.rot90(X_test_preprocessed_plot[ind_true_neg[i % len(ind_true_neg)],:]))\n",
    "    image2.set_data(np.rot90(X_test_preprocessed_plot[ind_false_pos[i % len(ind_false_pos)],:]))\n",
    "    image3.set_data(np.rot90(X_test_preprocessed_plot[ind_false_neg[i % len(ind_false_neg)],:]))\n",
    "    image4.set_data(np.rot90(X_test_preprocessed_plot[ind_true_pos[i % len(ind_true_pos)],:]))\n",
    "    return image1,image2,image3,image4,\n",
    "\n",
    "anim = animation.FuncAnimation(fig,animate,init_func=init,frames=40,interval=200,blit=True)\n",
    "mywriter = animation.FFMpegWriter()\n",
    "HTML(anim.to_html5_video())"
   ]
  },
  {
   "cell_type": "code",
   "execution_count": null,
   "metadata": {
    "collapsed": true,
    "deletable": true,
    "editable": true
   },
   "outputs": [],
   "source": [
    "#import matplotlib\n",
    "#import matplotlib.pyplot as plt\n",
    "print(y_test)\n",
    "plt.plot(np.linspace(25,54,30),model_predictions[n])\n",
    "plt.title('True:'+str(y_test[n])+' Predicted:'+str(y_pred[n]))"
   ]
  },
  {
   "cell_type": "code",
   "execution_count": null,
   "metadata": {
    "collapsed": true,
    "deletable": true,
    "editable": true
   },
   "outputs": [],
   "source": [
    "print(confusion_matrix(y_test,y_pred))\n",
    "print(accuracy_score(y_test,y_pred))"
   ]
  },
  {
   "cell_type": "code",
   "execution_count": null,
   "metadata": {
    "collapsed": true,
    "deletable": true,
    "editable": true
   },
   "outputs": [],
   "source": [
    "def plot_training(history):\n",
    "  acc = history.history['acc']\n",
    "  val_acc = history.history['val_acc']\n",
    "  loss = history.history['loss']\n",
    "  val_loss = history.history['val_loss']\n",
    "  epochs = range(len(acc))\n",
    "\n",
    "  plt.plot(epochs, acc, 'r.')\n",
    "  plt.plot(epochs, val_acc, 'r')\n",
    "  plt.title('Training and validation accuracy')\n",
    "\n",
    "  plt.figure()\n",
    "  plt.plot(epochs, loss, 'r.')\n",
    "  plt.plot(epochs, val_loss, 'r-')\n",
    "  plt.title('Training and validation loss')\n",
    "  plt.show()\n",
    "\n",
    "plot_training(history)"
   ]
  },
  {
   "cell_type": "code",
   "execution_count": null,
   "metadata": {
    "collapsed": true,
    "deletable": true,
    "editable": true
   },
   "outputs": [],
   "source": [
    "#Look at memory usage of all items in notebook\n",
    "import sys\n",
    "\n",
    "# These are the usual ipython objects, including this one you are creating\n",
    "ipython_vars = ['In', 'Out', 'exit', 'quit', 'get_ipython', 'ipython_vars']\n",
    "\n",
    "# Get a sorted list of the objects and their sizes\n",
    "sorted([(x, sys.getsizeof(globals().get(x))) for x in dir() if not x.startswith('_') and x not in sys.modules and x not in ipython_vars], key=lambda x: x[1], reverse=True)"
   ]
  }
 ],
 "metadata": {
  "anaconda-cloud": {},
  "kernelspec": {
   "display_name": "Python [default]",
   "language": "python",
   "name": "python3"
  },
  "language_info": {
   "codemirror_mode": {
    "name": "ipython",
    "version": 3
   },
   "file_extension": ".py",
   "mimetype": "text/x-python",
   "name": "python",
   "nbconvert_exporter": "python",
   "pygments_lexer": "ipython3",
   "version": "3.5.2"
  }
 },
 "nbformat": 4,
 "nbformat_minor": 2
}
