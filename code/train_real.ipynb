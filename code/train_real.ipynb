{
 "cells": [
  {
   "cell_type": "code",
   "execution_count": 1,
   "metadata": {
    "collapsed": false,
    "deletable": true,
    "editable": true
   },
   "outputs": [
    {
     "name": "stderr",
     "output_type": "stream",
     "text": [
      "Using TensorFlow backend.\n"
     ]
    }
   ],
   "source": [
    "import os\n",
    "import numpy as np\n",
    "import nibabel as nib\n",
    "import matplotlib\n",
    "import matplotlib.pyplot as plt\n",
    "from scipy.misc import imresize, imrotate\n",
    "import keras\n",
    "from keras.preprocessing.image import ImageDataGenerator\n",
    "from keras.applications.inception_v3 import preprocess_input, InceptionV3\n",
    "from keras.utils import to_categorical\n",
    "from sklearn.model_selection import train_test_split\n",
    "from keras.layers import Dense, GlobalAveragePooling2D\n",
    "from keras.models import Model\n",
    "import keras.backend as K\n",
    "from keras import models\n",
    "from keras.callbacks import ModelCheckpoint\n",
    "from time import gmtime, strftime\n",
    "from sklearn.metrics import confusion_matrix, accuracy_score, precision_score, classification_report\n",
    "from sklearn.svm import SVC\n",
    "from sklearn.ensemble import RandomForestClassifier\n",
    "from sklearn.externals import joblib\n",
    "\n",
    "root_dir = os.path.abspath('..')\n",
    "%matplotlib inline"
   ]
  },
  {
   "cell_type": "code",
   "execution_count": 2,
   "metadata": {
    "collapsed": false,
    "deletable": true,
    "editable": true
   },
   "outputs": [],
   "source": [
    "def fetch_real_data(base_dir,num_subjects):\n",
    "    '''Load in simulated data and motion files.'''\n",
    "    subject_list = os.listdir((os.path.join(base_dir)))\n",
    "    subject_list = [item for item in subject_list if item.startswith('sub') == True] #Filter everything but subjects\n",
    "    subject_list = sorted(subject_list) #sort in numerical order to make OS independent\n",
    "    counter = 0\n",
    "    num_vols=172\n",
    "    X = np.zeros((num_vols*num_subjects,128,128,64))\n",
    "    y = np.zeros(num_vols*num_subjects)\n",
    "    X_subject = np.zeros((128,128,64,num_vols))\n",
    "    y_subject = np.zeros(num_vols)\n",
    "    for subject_index, subject_number in enumerate(subject_list):\n",
    "        if subject_index < num_subjects:\n",
    "            data_path = os.path.join(base_dir,subject_number,'dwi.nii.gz')\n",
    "            if os.path.isfile(data_path):\n",
    "                data_header = nib.load(data_path)\n",
    "                X_subject = data_header.get_data()\n",
    "                y_subject = np.load(os.path.join(base_dir,subject_number,'y_manual.npy'))\n",
    "                start_index = counter*num_vols\n",
    "                end_index = (counter+1)*num_vols\n",
    "                X[start_index:end_index,:] = np.moveaxis(X_subject,3,0)\n",
    "                y[start_index:end_index] = y_subject\n",
    "                counter += 1\n",
    "    return X,y\n",
    "\n",
    "def preprocess_data_coronal(X,target_height=299,target_width=299, base_slice=64,rescale=False,):\n",
    "    '''Convert each MR volume to three slices through a single plane, scales the data and resamples\n",
    "    to 299 by 299 pixels. Optionally performs augmentation.'''   \n",
    "    #slices = [22,36,50] #Planes to slice\n",
    "    slices = np.array([base_slice,base_slice,base_slice]) #Planes to slice\n",
    "    pad_max = np.max([X.shape[1],X.shape[3]]) #Width to pad images to\n",
    "    \n",
    "    num_volumes = X.shape[0]\n",
    "    height = X.shape[1]\n",
    "    width = X.shape[3]\n",
    "    num_slices = X.shape[2]\n",
    "    X_preprocessed = np.zeros((num_volumes,target_height,target_width,3))\n",
    "\n",
    "    for i in range(num_volumes):\n",
    "        for j in range(3):\n",
    "            if (j == 0):\n",
    "                X_preprocessed[i,:,:,j] = imresize(pad_image(np.squeeze(X[i,:,slices[j],:]),pad_max),(target_width,target_height))\n",
    "            if (j == 1):\n",
    "                X_preprocessed[i,:,:,j] = imresize(pad_image(np.squeeze(X[i,:,slices[j],:]),pad_max),(target_width,target_height))\n",
    "            if (j == 2):\n",
    "                X_preprocessed[i,:,:,j] = imresize(pad_image(np.squeeze(X[i,:,slices[j],:]),pad_max),(target_width,target_height))     \n",
    "   \n",
    "    if rescale == True:\n",
    "        X_preprocessed = X_preprocessed.astype(np.float32)\n",
    "        X_preprocessed/= 255\n",
    "        percentile =np.percentile(X_preprocessed,99.9)\n",
    "        X_preprocessed[X_preprocessed>percentile] = percentile\n",
    "        X_preprocessed/=percentile\n",
    "        X_preprocessed -= 0.5\n",
    "        X_preprocessed *= 2.\n",
    "    return X_preprocessed\n",
    "\n",
    "def preprocess_data_saggital(X,target_height=299,target_width=299, base_slice=64,rescale=False,):\n",
    "    '''Convert each MR volume to three slices through a single plane, scales the data and resamples\n",
    "    to 299 by 299 pixels. Optionally performs augmentation.'''   \n",
    "    #slices = [22,36,50] #Planes to slice\n",
    "    slices = np.array([base_slice,base_slice,base_slice]) #Planes to slice\n",
    "    pad_max = np.max([X.shape[1],X.shape[3]]) #Width to pad images to\n",
    "    \n",
    "    num_volumes = X.shape[0]\n",
    "    height = X.shape[1]\n",
    "    width = X.shape[2]\n",
    "    num_slices = X.shape[3]\n",
    "    X_preprocessed = np.zeros((num_volumes,target_height,target_width,3))\n",
    "\n",
    "    for i in range(num_volumes):\n",
    "        for j in range(3):\n",
    "            if (j == 0):\n",
    "                X_preprocessed[i,:,:,j] = imresize(pad_image(np.squeeze(X[i,slices[j],:,:]),pad_max),(target_width,target_height))\n",
    "            if (j == 1):\n",
    "                X_preprocessed[i,:,:,j] = imresize(pad_image(np.squeeze(X[i,slices[j],:,:]),pad_max),(target_width,target_height))\n",
    "            if (j == 2):\n",
    "                X_preprocessed[i,:,:,j] = imresize(pad_image(np.squeeze(X[i,slices[j],:,:]),pad_max),(target_width,target_height))     \n",
    "   \n",
    "    if rescale == True:\n",
    "        X_preprocessed = X_preprocessed.astype(np.float32)\n",
    "        X_preprocessed/= 255\n",
    "        percentile =np.percentile(X_preprocessed,99.9)\n",
    "        X_preprocessed[X_preprocessed>percentile] = percentile\n",
    "        X_preprocessed/=percentile\n",
    "        X_preprocessed -= 0.5\n",
    "        X_preprocessed *= 2.\n",
    "    return X_preprocessed\n",
    "\n",
    "def pad_image(image,pad_max):\n",
    "    if pad_max == 0:\n",
    "        return image\n",
    "    else:\n",
    "        pad_width = np.array([[pad_max,pad_max],[pad_max,pad_max]])-[image.shape,image.shape]\n",
    "        pad_width=np.transpose(pad_width)\n",
    "        pad_width[:,0] = np.floor(pad_width[:,0]/2)\n",
    "        pad_width[:,1] = np.ceil(pad_width[:,1]/2)\n",
    "        return np.lib.pad(image,pad_width,'constant',constant_values=(0))\n",
    "    \n",
    "def preprocess_input_scaling(x):\n",
    "        x=x.astype(np.float32)\n",
    "        x /= 255.\n",
    "        percentile =np.percentile(x,99.9)\n",
    "        x[x>percentile] = percentile\n",
    "        x/=percentile\n",
    "        x -= 0.5\n",
    "        x *= 2.\n",
    "        return x"
   ]
  },
  {
   "cell_type": "code",
   "execution_count": 9,
   "metadata": {
    "collapsed": false,
    "deletable": true,
    "editable": true
   },
   "outputs": [
    {
     "name": "stdout",
     "output_type": "stream",
     "text": [
      "(1204, 128, 128, 64) (1204,)\n",
      "Train shape X (2580, 299, 299, 3)\n",
      "Train shape y (2580, 299, 299, 3)\n",
      "Test shape X (1032, 299, 299, 3)\n",
      "Test shape y (1032,)\n"
     ]
    }
   ],
   "source": [
    "view = 'coronal'\n",
    "#view = 'saggital'\n",
    "\n",
    "\n",
    "X,y = fetch_real_data('../data/sourcedata/',7)\n",
    "print(X.shape,y.shape)\n",
    "\n",
    "num_vols = 172\n",
    "num_train = 5\n",
    "num_test = 2\n",
    "slices_to_extract = [50,64,80]\n",
    "\n",
    "X_train = np.zeros((num_vols*num_train*len(slices_to_extract),299,299,3))\n",
    "X_test = np.zeros((num_vols*num_test*len(slices_to_extract),299,299,3))\n",
    "y_train = np.zeros((num_vols*num_train*len(slices_to_extract)))\n",
    "y_test = np.zeros((num_vols*num_test*len(slices_to_extract)))\n",
    "\n",
    "for slice_num, slice_indx in enumerate(slices_to_extract):\n",
    "    start_indx_train = slice_num * num_vols*num_train\n",
    "    end_indx_train = (slice_num+1) * num_vols*num_train\n",
    "    start_indx_test = slice_num * num_vols*num_test\n",
    "    end_indx_test = (slice_num+1) * num_vols*num_test\n",
    "    if view == 'saggital':\n",
    "        X_preprocessed = preprocess_data_saggital(X,base_slice=slice_indx)\n",
    "    elif view == 'coronal':\n",
    "        X_preprocessed = preprocess_data_coronal(X,base_slice=slice_indx)\n",
    "    else:\n",
    "        print('View not recognised')    \n",
    "    X_train[start_indx_train:end_indx_train,:] = X_preprocessed[:num_vols*num_train]\n",
    "    X_test[start_indx_test:end_indx_test,:] = X_preprocessed[num_vols*num_train:]\n",
    "    y_train[start_indx_train:end_indx_train]= y[:num_vols*num_train]\n",
    "    y_test[start_indx_test:end_indx_test]=y[num_vols*num_train:]\n",
    "\n",
    "y_train = (y_train!=0)\n",
    "y_test = (y_test!=0)\n",
    "\n",
    "print('Train shape X',X_train.shape)\n",
    "print('Train shape y',X_train.shape)\n",
    "\n",
    "print('Test shape X',X_test.shape)\n",
    "print('Test shape y',y_test.shape)\n",
    "\n"
   ]
  },
  {
   "cell_type": "code",
   "execution_count": 10,
   "metadata": {
    "collapsed": false,
    "deletable": true,
    "editable": true
   },
   "outputs": [
    {
     "name": "stdout",
     "output_type": "stream",
     "text": [
      "1.0\n"
     ]
    },
    {
     "data": {
      "image/png": "[encoded data removed]",
      "text/plain": [
       "<matplotlib.figure.Figure at 0x7f91bec0dcf8>"
      ]
     },
     "metadata": {},
     "output_type": "display_data"
    }
   ],
   "source": [
    "slice_=60\n",
    "X_plot = preprocess_data_coronal(X[:,:,:,:],base_slice=slice_)\n",
    "\n",
    "pos_indices = np.where(y!=0)[0]\n",
    "index=50\n",
    "index2 = pos_indices[index]\n",
    "\n",
    "plt.subplot(1,2,1)\n",
    "plt.imshow(X[index2,:,slice_,:])\n",
    "plt.subplot(1,2,2)\n",
    "plt.imshow(X_plot[index2,:,:,0])\n",
    "print(y[index2])"
   ]
  },
  {
   "cell_type": "code",
   "execution_count": 11,
   "metadata": {
    "collapsed": false,
    "deletable": true,
    "editable": true
   },
   "outputs": [],
   "source": [
    "train_generator = ImageDataGenerator(\n",
    "    featurewise_center=False,\n",
    "    samplewise_center=False,\n",
    "    featurewise_std_normalization=False,\n",
    "    samplewise_std_normalization=False,\n",
    "    zca_whitening=False,\n",
    "    zca_epsilon=1e-6,\n",
    "    rotation_range=0.,\n",
    "    width_shift_range=0.,\n",
    "    height_shift_range=0.,\n",
    "    shear_range=0.0,\n",
    "    zoom_range=0.,\n",
    "    channel_shift_range=0.,\n",
    "    fill_mode='nearest',\n",
    "    cval=0.,\n",
    "    horizontal_flip=False,\n",
    "    vertical_flip=False,\n",
    "    rescale=None,\n",
    "    preprocessing_function=preprocess_input_scaling,\n",
    "    data_format='channels_last')\n",
    "\n",
    "validation_generator = ImageDataGenerator(\n",
    "    featurewise_center=False,\n",
    "    samplewise_center=False,\n",
    "    featurewise_std_normalization=False,\n",
    "    samplewise_std_normalization=False,\n",
    "    zca_whitening=False,\n",
    "    zca_epsilon=1e-6,\n",
    "    rotation_range=0.,\n",
    "    width_shift_range=0.,\n",
    "    height_shift_range=0.,\n",
    "    shear_range=0.0,\n",
    "    zoom_range=0.0,\n",
    "    channel_shift_range=0.,\n",
    "    fill_mode='nearest',\n",
    "    cval=0.,\n",
    "    horizontal_flip=False,\n",
    "    vertical_flip=False,\n",
    "    rescale=None,\n",
    "    preprocessing_function=preprocess_input_scaling,\n",
    "    data_format='channels_last',)\n",
    "\n",
    "train_batch_size = 43\n",
    "validation_batch_size = 43\n",
    "train_examples = X_train.shape[0]\n",
    "validation_examples = X_test.shape[0]\n",
    "train_data = train_generator.flow(X_train,to_categorical(y_train,2),batch_size=train_batch_size,shuffle=True)\n",
    "validation_data = validation_generator.flow(X_test,to_categorical(y_test,2),batch_size=validation_batch_size,shuffle=False)\n",
    "\n",
    "\n",
    "#     ctr = 0\n",
    "#     for batch in train_data:\n",
    "#         im = np.squeeze(batch[0][6,:])\n",
    "#         print(im.shape)\n",
    "#         plt.imshow(im)\n",
    "#         ctr += 1\n",
    "#         if ctr > 0:\n",
    "#             break"
   ]
  },
  {
   "cell_type": "code",
   "execution_count": 12,
   "metadata": {
    "collapsed": false,
    "deletable": true,
    "editable": true
   },
   "outputs": [
    {
     "name": "stdout",
     "output_type": "stream",
     "text": [
      "0.860465116279\n",
      "360\n",
      "0.758720930233\n",
      "249\n"
     ]
    }
   ],
   "source": [
    "print(1-np.sum(y_train)/len(y_train))\n",
    "print(np.sum(y_train))\n",
    "print(1-np.sum(y_test)/len(y_test))\n",
    "print(np.sum(y_test))\n"
   ]
  },
  {
   "cell_type": "code",
   "execution_count": 13,
   "metadata": {
    "collapsed": false,
    "deletable": true,
    "editable": true
   },
   "outputs": [],
   "source": [
    "#Set up inception v3 for transfer learning\n",
    "base_model = InceptionV3(weights='imagenet',include_top=False)"
   ]
  },
  {
   "cell_type": "code",
   "execution_count": 14,
   "metadata": {
    "collapsed": false,
    "deletable": true,
    "editable": true
   },
   "outputs": [],
   "source": [
    "x = base_model.output\n",
    "x = GlobalAveragePooling2D()(x)\n",
    "x = Dense(16,activation='relu')(x)\n",
    "predictions = Dense(2,activation='softmax')(x)\n",
    "\n",
    "model = Model(inputs=base_model.input,outputs=predictions)\n",
    "\n",
    "for layer in base_model.layers:\n",
    "    layer.trainable = False\n",
    "    \n",
    "model.compile(optimizer='adam',\n",
    "             loss='binary_crossentropy',\n",
    "                 metrics=['accuracy'])"
   ]
  },
  {
   "cell_type": "code",
   "execution_count": 15,
   "metadata": {
    "collapsed": false,
    "deletable": true,
    "editable": true
   },
   "outputs": [
    {
     "name": "stdout",
     "output_type": "stream",
     "text": [
      "60.0\n",
      "24.0\n",
      "Model name: real_keras_logs/2017-10-13-15-00-08\n",
      "Epoch 1/30\n",
      "60/60 [==============================] - 62s - loss: 0.2884 - acc: 0.8752 - val_loss: 0.4118 - val_acc: 0.7762\n",
      "Epoch 2/30\n",
      "60/60 [==============================] - 60s - loss: 0.1929 - acc: 0.9264 - val_loss: 0.4898 - val_acc: 0.7839\n",
      "Epoch 3/30\n",
      "60/60 [==============================] - 61s - loss: 0.1702 - acc: 0.9450 - val_loss: 0.4664 - val_acc: 0.7897\n",
      "Epoch 4/30\n",
      "60/60 [==============================] - 61s - loss: 0.1638 - acc: 0.9558 - val_loss: 0.3882 - val_acc: 0.8227\n",
      "Epoch 5/30\n",
      "60/60 [==============================] - 61s - loss: 0.1514 - acc: 0.9589 - val_loss: 0.4193 - val_acc: 0.8043\n",
      "Epoch 6/30\n",
      "60/60 [==============================] - 61s - loss: 0.1355 - acc: 0.9640 - val_loss: 0.2780 - val_acc: 0.8934\n",
      "Epoch 7/30\n",
      "60/60 [==============================] - 61s - loss: 0.1290 - acc: 0.9667 - val_loss: 0.2702 - val_acc: 0.9031\n",
      "Epoch 8/30\n",
      "60/60 [==============================] - 61s - loss: 0.1225 - acc: 0.9682 - val_loss: 0.2962 - val_acc: 0.8866\n",
      "Epoch 9/30\n",
      "60/60 [==============================] - 61s - loss: 0.1297 - acc: 0.9686 - val_loss: 0.2032 - val_acc: 0.9302\n",
      "Epoch 10/30\n",
      "60/60 [==============================] - 72s - loss: 0.1220 - acc: 0.9678 - val_loss: 0.2258 - val_acc: 0.9225\n",
      "Epoch 11/30\n",
      "60/60 [==============================] - 61s - loss: 0.1160 - acc: 0.9667 - val_loss: 0.2094 - val_acc: 0.9225\n",
      "Epoch 12/30\n",
      "60/60 [==============================] - 61s - loss: 0.1045 - acc: 0.9748 - val_loss: 0.2017 - val_acc: 0.9322\n",
      "Epoch 13/30\n",
      "60/60 [==============================] - 61s - loss: 0.1059 - acc: 0.9721 - val_loss: 0.2544 - val_acc: 0.8934\n",
      "Epoch 14/30\n",
      "60/60 [==============================] - 61s - loss: 0.1018 - acc: 0.9702 - val_loss: 0.1980 - val_acc: 0.9283\n",
      "Epoch 15/30\n",
      "60/60 [==============================] - 61s - loss: 0.1011 - acc: 0.9717 - val_loss: 0.1818 - val_acc: 0.9283\n",
      "Epoch 16/30\n",
      "60/60 [==============================] - 61s - loss: 0.0862 - acc: 0.9802 - val_loss: 0.1814 - val_acc: 0.9351\n",
      "Epoch 17/30\n",
      "60/60 [==============================] - 60s - loss: 0.0901 - acc: 0.9760 - val_loss: 0.1762 - val_acc: 0.9351\n",
      "Epoch 18/30\n",
      "60/60 [==============================] - 61s - loss: 0.0799 - acc: 0.9810 - val_loss: 0.2371 - val_acc: 0.9205\n",
      "Epoch 19/30\n",
      "60/60 [==============================] - 61s - loss: 0.0860 - acc: 0.9764 - val_loss: 0.1965 - val_acc: 0.9331\n",
      "Epoch 20/30\n",
      "60/60 [==============================] - 61s - loss: 0.0760 - acc: 0.9795 - val_loss: 0.2036 - val_acc: 0.9293\n",
      "Epoch 21/30\n",
      "60/60 [==============================] - 61s - loss: 0.0749 - acc: 0.9787 - val_loss: 0.1787 - val_acc: 0.9341\n",
      "Epoch 22/30\n",
      "60/60 [==============================] - 61s - loss: 0.0695 - acc: 0.9826 - val_loss: 0.1720 - val_acc: 0.9331\n",
      "Epoch 23/30\n",
      "60/60 [==============================] - 61s - loss: 0.0706 - acc: 0.9822 - val_loss: 0.1792 - val_acc: 0.9351\n",
      "Epoch 24/30\n",
      "60/60 [==============================] - 61s - loss: 0.0690 - acc: 0.9829 - val_loss: 0.1711 - val_acc: 0.9331\n",
      "Epoch 25/30\n",
      "60/60 [==============================] - 61s - loss: 0.0699 - acc: 0.9795 - val_loss: 0.1763 - val_acc: 0.9331\n",
      "Epoch 26/30\n",
      "60/60 [==============================] - 61s - loss: 0.0620 - acc: 0.9837 - val_loss: 0.1750 - val_acc: 0.9302\n",
      "Epoch 27/30\n",
      "60/60 [==============================] - 61s - loss: 0.0618 - acc: 0.9857 - val_loss: 0.1806 - val_acc: 0.9312\n",
      "Epoch 28/30\n",
      "60/60 [==============================] - 61s - loss: 0.0541 - acc: 0.9884 - val_loss: 0.1761 - val_acc: 0.9302\n",
      "Epoch 29/30\n",
      "60/60 [==============================] - 61s - loss: 0.0614 - acc: 0.9829 - val_loss: 0.1880 - val_acc: 0.9341\n",
      "Epoch 30/30\n",
      "60/60 [==============================] - 61s - loss: 0.0523 - acc: 0.9880 - val_loss: 0.1856 - val_acc: 0.9331\n",
      "[[743  40]\n",
      " [ 29 220]]\n"
     ]
    }
   ],
   "source": [
    "now = strftime(\"%Y-%m-%d-%H-%M-%S\", gmtime())\n",
    "filename = 'keras_logs/real_'+now+'.epoch{epoch:02d}-lossval{val_loss:.2f}.hdf5'\n",
    "checkpoint = ModelCheckpoint(filepath=filename,\n",
    "                            period=10)\n",
    "\n",
    "train_steps_per_epoch = train_examples/train_batch_size\n",
    "validation_steps_per_epoch = validation_examples/validation_batch_size\n",
    "print(train_steps_per_epoch)\n",
    "print(validation_steps_per_epoch)\n",
    "num_epochs = 30\n",
    "\n",
    "\n",
    "\n",
    "\n",
    "print('Model name:','real_keras_logs/'+now)\n",
    "history = model.fit_generator(generator = train_data,\n",
    "                           steps_per_epoch=train_steps_per_epoch,\n",
    "                           epochs = num_epochs,\n",
    "                           validation_data = validation_data,\n",
    "                           validation_steps = validation_steps_per_epoch,\n",
    "                           class_weight=[1,5],\n",
    "                            callbacks=[checkpoint])\n",
    "\n",
    "validation_data = validation_generator.flow(X_test,to_categorical(y_test,2),batch_size=validation_batch_size,shuffle=False)\n",
    "y_pred = model.predict_generator(validation_data,validation_steps_per_epoch)[:,1] > 0.5\n",
    "print(confusion_matrix(y_test,y_pred))"
   ]
  },
  {
   "cell_type": "code",
   "execution_count": 21,
   "metadata": {
    "collapsed": false,
    "deletable": true,
    "editable": true
   },
   "outputs": [
    {
     "name": "stdout",
     "output_type": "stream",
     "text": [
      "             precision    recall  f1-score   support\n",
      "\n",
      "      False       0.99      0.98      0.98       295\n",
      "       True       0.88      0.94      0.91        49\n",
      "\n",
      "avg / total       0.97      0.97      0.97       344\n",
      "\n",
      "[[289   6]\n",
      " [  3  46]]\n"
     ]
    }
   ],
   "source": [
    "#predictions_combined = np.concatenate((model_predictions_coronal_test,model_predictions_saggital_test),axis=1)\n",
    "predictions_combined = model_predictions_saggital_test\n",
    "y_pred = np.mean(predictions_combined,axis=1)>0.6\n",
    "print(classification_report((y_test!=0),y_pred))\n",
    "print(confusion_matrix((y_test!=0),y_pred))"
   ]
  },
  {
   "cell_type": "markdown",
   "metadata": {
    "deletable": true,
    "editable": true
   },
   "source": [
    "# Visualise "
   ]
  },
  {
   "cell_type": "code",
   "execution_count": null,
   "metadata": {
    "collapsed": false
   },
   "outputs": [],
   "source": [
    "#Load back in results\n",
    "y_predictions_combined = np.load('misc_files/predictions_combined_val.npy')\n",
    "y_val = np.load('misc_files/y_val.npy')\n",
    "svm_classifier = joblib.load('misc_files/svm_classifier.pkl') \n",
    "#y_pred_val = svm_classifier.predict(y_predictions_combined)\n",
    "y_pred_val = np.mean(y_predictions_combined,axis=1) > 0.5 \n",
    "print(confusion_matrix(y_val,y_pred_val))\n"
   ]
  },
  {
   "cell_type": "code",
   "execution_count": null,
   "metadata": {
    "collapsed": true,
    "deletable": true,
    "editable": true
   },
   "outputs": [],
   "source": [
    "from sklearn.metrics import accuracy_score, confusion_matrix\n",
    "from matplotlib import animation\n",
    "from matplotlib import animation, rc\n",
    "from IPython.display import HTML\n",
    "\n",
    "\n",
    "ind_true_pos = [indx for indx,y in enumerate(y_val) if (y_val[indx] == 1) and (y_pred_val[indx] == 1) ]\n",
    "ind_true_neg = [indx for indx,y in enumerate(y_val) if (y_val[indx] == 0) and (y_pred_val[indx] == 0) ]\n",
    "ind_false_neg = [indx for indx,y in enumerate(y_val) if (y_val[indx] == 1) and (y_pred_val[indx] == 0) ]\n",
    "ind_false_pos = [indx for indx,y in enumerate(y_val) if (y_val[indx] == 0) and (y_pred_val[indx] == 1) ]"
   ]
  },
  {
   "cell_type": "code",
   "execution_count": null,
   "metadata": {
    "collapsed": false,
    "deletable": true,
    "editable": true
   },
   "outputs": [],
   "source": [
    "#Animated plot of confusion-matrix\n",
    "#X, y = fetch_data(os.path.join(root_dir,'data/sims'),8)\n",
    "X_test_preprocessed = preprocess_data_planar(X[648:,:,:,:])\n",
    "#del X, y\n",
    "\n",
    "X_test_preprocessed_plot = X_test_preprocessed.astype(np.float32)/255\n",
    "#X_test_preprocessed_plot += 0.5\n",
    "\n",
    "fig=plt.figure(figsize=(12,12))\n",
    "ax1 = fig.add_subplot(221)\n",
    "ax2 = fig.add_subplot(222)\n",
    "ax3 = fig.add_subplot(223)\n",
    "ax4 = fig.add_subplot(224)\n",
    "\n",
    "image1 = ax1.imshow(np.zeros((X_test_preprocessed_plot.shape[1],X_test_preprocessed_plot.shape[2],3))); ax1.axis('off')\n",
    "image2 = ax2.imshow(np.zeros((X_test_preprocessed_plot.shape[1],X_test_preprocessed_plot.shape[2],3))); ax2.axis('off')\n",
    "image3 = ax3.imshow(np.zeros((X_test_preprocessed_plot.shape[1],X_test_preprocessed_plot.shape[2],3))); ax3.axis('off')\n",
    "image4 = ax4.imshow(np.zeros((X_test_preprocessed_plot.shape[1],X_test_preprocessed_plot.shape[2],3))); ax4.axis('off')\n",
    "fig.text(0.5, 0.94, 'Predictions', ha='center',weight='bold')\n",
    "fig.text(0.06, 0.5, 'Actual', ha='center',weight='bold')\n",
    "fig.text(0.08, 0.7, 'False', ha='center')\n",
    "fig.text(0.08, 0.3, 'True', ha='center')\n",
    "fig.text(0.32, 0.9, 'False', ha='center')\n",
    "fig.text(0.7, 0.9, 'True', ha='center')\n",
    "fig.text(0.47, 0.52, str(len(ind_true_neg)), ha='center',color='white')\n",
    "fig.text(0.55, 0.52, str(len(ind_false_pos)), ha='center',color='white')\n",
    "fig.text(0.47, 0.45, str(len(ind_false_neg)), ha='center',color='white')\n",
    "fig.text(0.55, 0.45, str(len(ind_true_pos)), ha='center',color='white')\n",
    "\n",
    "matplotlib.rcParams.update({'font.size': 20})\n",
    "fig.subplots_adjust(hspace=0.03, wspace=0.02)\n",
    "plt.close()\n",
    "\n",
    "def init():\n",
    "    image1.set_data(np.zeros((X_test_preprocessed_plot.shape[1],X_test_preprocessed_plot.shape[2]))); \n",
    "    image2.set_data(np.zeros((X_test_preprocessed_plot.shape[1],X_test_preprocessed_plot.shape[2])))\n",
    "    image3.set_data(np.zeros((X_test_preprocessed_plot.shape[1],X_test_preprocessed_plot.shape[2])))\n",
    "    image4.set_data(np.zeros((X_test_preprocessed_plot.shape[1],X_test_preprocessed_plot.shape[2])))\n",
    "    \n",
    "    return image1,image2,image3,image4,\n",
    "\n",
    "def animate(i):\n",
    "    image1.set_data(np.rot90(X_test_preprocessed_plot[ind_true_neg[i % len(ind_true_neg)],:]))\n",
    "    image2.set_data(np.rot90(X_test_preprocessed_plot[ind_false_pos[i % len(ind_false_pos)],:]))\n",
    "    image3.set_data(np.rot90(X_test_preprocessed_plot[ind_false_neg[i % len(ind_false_neg)],:]))\n",
    "    image4.set_data(np.rot90(X_test_preprocessed_plot[ind_true_pos[i % len(ind_true_pos)],:]))\n",
    "    return image1,image2,image3,image4,\n",
    "\n",
    "anim = animation.FuncAnimation(fig,animate,init_func=init,frames=40,interval=200,blit=True)\n",
    "mywriter = animation.FFMpegWriter()\n",
    "HTML(anim.to_html5_video())"
   ]
  },
  {
   "cell_type": "code",
   "execution_count": null,
   "metadata": {
    "collapsed": true,
    "deletable": true,
    "editable": true
   },
   "outputs": [],
   "source": [
    "#import matplotlib\n",
    "#import matplotlib.pyplot as plt\n",
    "print(y_test)\n",
    "plt.plot(np.linspace(25,54,30),model_predictions[n])\n",
    "plt.title('True:'+str(y_test[n])+' Predicted:'+str(y_pred[n]))"
   ]
  },
  {
   "cell_type": "code",
   "execution_count": null,
   "metadata": {
    "collapsed": true,
    "deletable": true,
    "editable": true
   },
   "outputs": [],
   "source": [
    "print(confusion_matrix(y_test,y_pred))\n",
    "print(accuracy_score(y_test,y_pred))"
   ]
  },
  {
   "cell_type": "code",
   "execution_count": null,
   "metadata": {
    "collapsed": true,
    "deletable": true,
    "editable": true
   },
   "outputs": [],
   "source": [
    "#Look at memory usage of all items in notebook\n",
    "import sys\n",
    "\n",
    "# These are the usual ipython objects, including this one you are creating\n",
    "ipython_vars = ['In', 'Out', 'exit', 'quit', 'get_ipython', 'ipython_vars']\n",
    "\n",
    "# Get a sorted list of the objects and their sizes\n",
    "sorted([(x, sys.getsizeof(globals().get(x))) for x in dir() if not x.startswith('_') and x not in sys.modules and x not in ipython_vars], key=lambda x: x[1], reverse=True)"
   ]
  },
  {
   "cell_type": "code",
   "execution_count": null,
   "metadata": {
    "collapsed": true,
    "deletable": true,
    "editable": true
   },
   "outputs": [],
   "source": [
    "import keras\n",
    "print(keras.__version__)"
   ]
  }
 ],
 "metadata": {
  "anaconda-cloud": {},
  "kernelspec": {
   "display_name": "Python [default]",
   "language": "python",
   "name": "python3"
  },
  "language_info": {
   "codemirror_mode": {
    "name": "ipython",
    "version": 3
   },
   "file_extension": ".py",
   "mimetype": "text/x-python",
   "name": "python",
   "nbconvert_exporter": "python",
   "pygments_lexer": "ipython3",
   "version": "3.5.2"
  }
 },
 "nbformat": 4,
 "nbformat_minor": 2
}
