{
 "cells": [
  {
   "cell_type": "code",
   "execution_count": 1,
   "metadata": {},
   "outputs": [
    {
     "name": "stderr",
     "output_type": "stream",
     "text": [
      "Using TensorFlow backend.\n"
     ]
    }
   ],
   "source": [
    "import os\n",
    "import numpy as np\n",
    "import nibabel as nib\n",
    "import matplotlib\n",
    "import matplotlib.pyplot as plt\n",
    "from scipy.misc import imresize, imrotate\n",
    "%matplotlib inline\n",
    "import keras\n",
    "\n",
    "root_dir = os.path.abspath('..')"
   ]
  },
  {
   "cell_type": "code",
   "execution_count": 50,
   "metadata": {
    "collapsed": true
   },
   "outputs": [],
   "source": [
    "def fetch_data(base_dir,num_subjects):\n",
    "    '''Load in simulated data and motion files.'''\n",
    "    subject_list = os.listdir((os.path.join(base_dir)))\n",
    "    subject_list = [item for item in subject_list if item.startswith('.') == False] #Filter .DS_STORE\n",
    "    counter = 0\n",
    "    X = np.zeros((108*num_subjects,72,86,55))\n",
    "    y = np.zeros(108*num_subjects)\n",
    "    X_subject = np.zeros((72,86,55,108))\n",
    "    y_subject = np.zeros(108)\n",
    "    for subject_index, subject_number in enumerate(subject_list):\n",
    "        data_path = os.path.join(base_dir,subject_number,'data.nii.gz')\n",
    "        if os.path.isfile(data_path):\n",
    "            data_header = nib.load(data_path)\n",
    "            X_subject = data_header.get_data()\n",
    "            for i in range(108):\n",
    "                motion = np.loadtxt(os.path.join(base_dir,subject_number,'motion/motion'+str(i)+'.txt'))\n",
    "                y_subject[i] = create_labels(motion)\n",
    "            start_index = counter*108\n",
    "            end_index = (counter+1)*108\n",
    "            X[start_index:end_index,:] = np.moveaxis(X_subject,3,0)\n",
    "            y[start_index:end_index] = y_subject\n",
    "            counter += 1\n",
    "    return X,y\n",
    "\n",
    "def create_labels(motion, translation_threshold=1, rotation_threshold = 1):\n",
    "    '''Take a POSSUM motion file and decide whether it contains signficant intra-volume movement.'''\n",
    "    max_motion = np.max(motion[:,1:],axis=0)\n",
    "    min_motion = np.min(motion[:,1:],axis=0)\n",
    "    diff_motion = np.abs(max_motion-min_motion)\n",
    "    diff_motion[:3] = diff_motion[:3]*1000\n",
    "    diff_motion[3:] = np.rad2deg(diff_motion[3:])\n",
    "    if np.any( diff_motion[:3] > translation_threshold):\n",
    "        return 1\n",
    "    elif np.any(diff_motion[3:] > rotation_threshold):\n",
    "        return 1\n",
    "    else:\n",
    "        return 0\n",
    "    \n",
    "def pad_image(image,pad_max):\n",
    "    if pad_max == 0:\n",
    "        return image\n",
    "    else:\n",
    "        pad_width = np.array([[pad_max,pad_max],[pad_max,pad_max]])-[image.shape,image.shape]\n",
    "        pad_width=np.transpose(pad_width)\n",
    "        pad_width[:,0] = np.floor(pad_width[:,0]/2)\n",
    "        pad_width[:,1] = np.ceil(pad_width[:,1]/2)\n",
    "        return np.lib.pad(image,pad_width,'constant',constant_values=(0))\n",
    "    \n",
    "def preprocess_data_planar(X,target_height=299,target_width=299,is_training=False,\\\n",
    "                           flip=False,rotate_z=False,base_slice=36,sample_more_slices=True,pad_images=False,crop_image=False,rescale=False):\n",
    "    '''Convert each MR volume to three slices through a single plane, scales the data and resamples\n",
    "    to 299 by 299 pixels. Optionally performs augmentation.'''   \n",
    "    #slices = [22,36,50] #Planes to slice\n",
    "    slices = np.array([base_slice,base_slice,base_slice]) #Planes to slice\n",
    "    if pad_images == True:\n",
    "        pad_max = np.max(X.shape[2:]) #Width to pad images to\n",
    "    else:\n",
    "        pad_max = 0\n",
    "    num_volumes = X.shape[0]\n",
    "    height = X.shape[1]\n",
    "    width = X.shape[2]\n",
    "    num_slices = X.shape[3]\n",
    "    X_preprocessed = np.zeros((num_volumes,target_height,target_width,3))\n",
    "    if is_training == True:\n",
    "        for i in range(num_volumes):\n",
    "            vol = np.copy(np.squeeze(X[i,:]))\n",
    "            #Flip\n",
    "            if flip == True:\n",
    "                if np.random.uniform() > 0.5:\n",
    "                    vol = np.fliplr(vol)\n",
    "                if np.random.uniform() > 0.5:\n",
    "                    vol = np.flip(vol,2)\n",
    "            #Rotate about z\n",
    "            if rotate_z == True:\n",
    "                angle = np.random.randint(-20,20)\n",
    "                for slice_num in range(num_slices):\n",
    "                    vol[:,:,slice_num] = imrotate(vol[:,:,slice_num],angle,interp='bilinear')\n",
    "            #Sample different slice in plane\n",
    "            if sample_more_slices == True:\n",
    "                slices_new = slices + np.random.randint(-5,5)\n",
    "            else:\n",
    "                slices_new = slices\n",
    "            #Crop\n",
    "            if crop_image == True:\n",
    "                image_ratio = width / height\n",
    "                target_image_ratio = target_width / target_height\n",
    "                crop_vertically = image_ratio < target_image_ratio\n",
    "                crop_width = width if crop_vertically else int(height * target_image_ratio)\n",
    "                crop_height = int(width / target_image_ratio) if crop_vertically else height\n",
    "\n",
    "                # Now let's shrink this bounding box by a random factor (dividing the dimensions by a random number\n",
    "                # between 1.0 and 1.0 + `max_zoom`.\n",
    "                max_zoom = 0.8\n",
    "                resize_factor = np.random.rand() * max_zoom + 1.0\n",
    "                crop_width = int(crop_width / resize_factor)\n",
    "                crop_height = int(crop_height / resize_factor)\n",
    "\n",
    "                # Next, we can select a random location on the image for this bounding box.\n",
    "                x0 = np.random.randint(0, width - crop_width)\n",
    "                y0 = np.random.randint(0, height - crop_height)\n",
    "                x1 = x0 + crop_width\n",
    "                y1 = y0 + crop_height\n",
    "            else:\n",
    "                x0=0;y0=0;x1=width;y1=height\n",
    "            for j in range(3):\n",
    "                if (j == 0):\n",
    "                    X_preprocessed[i,:,:,j] = imresize(pad_image(vol[slices_new[j],y0:y1, x0:x1],pad_max),(target_width,target_height))\n",
    "                if (j == 1):\n",
    "                    X_preprocessed[i,:,:,j] = imresize(pad_image(vol[slices_new[j],y0:y1, x0:x1],pad_max),(target_width,target_height))\n",
    "                if (j == 2):\n",
    "                    X_preprocessed[i,:,:,j] = imresize(pad_image(vol[slices_new[j],y0:y1, x0:x1],pad_max),(target_width,target_height))     \n",
    "                    \n",
    "    else:\n",
    "        pad_max = np.max(X.shape[2:]) #Always pad for testing\n",
    "        for i in range(num_volumes):\n",
    "            for j in range(3):\n",
    "                if (j == 0):\n",
    "                    X_preprocessed[i,:,:,j] = imresize(pad_image(np.squeeze(X[i,slices[j],:,:]),pad_max),(target_width,target_height))\n",
    "                if (j == 1):\n",
    "                    X_preprocessed[i,:,:,j] = imresize(pad_image(np.squeeze(X[i,slices[j],:,:]),pad_max),(target_width,target_height))\n",
    "                if (j == 2):\n",
    "                    X_preprocessed[i,:,:,j] = imresize(pad_image(np.squeeze(X[i,slices[j],:,:]),pad_max),(target_width,target_height))     \n",
    "   \n",
    "    if rescale == True:\n",
    "        X_preprocessed = X_preprocessed.astype(np.float32)\n",
    "        X_preprocessed/= 255\n",
    "        X_preprocessed -= 0.5\n",
    "        X_preprocessed *= 2.\n",
    "    return X_preprocessed"
   ]
  },
  {
   "cell_type": "code",
   "execution_count": 3,
   "metadata": {
    "collapsed": true
   },
   "outputs": [],
   "source": [
    "from sklearn.model_selection import train_test_split\n",
    "\n",
    "X, y = fetch_data(os.path.join(root_dir,'data/sims'),8)\n",
    "X_preprocessed = preprocess_data_planar(X,is_training=False)\n",
    "\n",
    "#X_train, X_test, y_train, y_test = train_test_split(X,y,stratify=y,random_state=42) \n",
    "X_train = X_preprocessed[:648]\n",
    "X_test = X_preprocessed[648:]\n",
    "y_train= y[:648]\n",
    "y_test=y[648:]\n",
    "\n",
    "#Clear memory\n",
    "#del X,y "
   ]
  },
  {
   "cell_type": "code",
   "execution_count": 4,
   "metadata": {
    "collapsed": true
   },
   "outputs": [],
   "source": [
    "from keras.preprocessing.image import ImageDataGenerator\n",
    "from keras.applications.inception_v3 import preprocess_input, InceptionV3\n",
    "from keras.utils import to_categorical\n",
    "\n",
    "train_generator = ImageDataGenerator(\n",
    "    featurewise_center=False,\n",
    "    samplewise_center=False,\n",
    "    featurewise_std_normalization=False,\n",
    "    samplewise_std_normalization=False,\n",
    "    zca_whitening=False,\n",
    "    zca_epsilon=1e-6,\n",
    "    rotation_range=0.,\n",
    "    width_shift_range=0.,\n",
    "    height_shift_range=0.,\n",
    "    shear_range=0.0,\n",
    "    zoom_range=0.,\n",
    "    channel_shift_range=0.,\n",
    "    fill_mode='nearest',\n",
    "    cval=0.,\n",
    "    horizontal_flip=False,\n",
    "    vertical_flip=False,\n",
    "    rescale=None,\n",
    "    preprocessing_function=preprocess_input,\n",
    "    data_format='channels_last')\n",
    "\n",
    "validation_generator = ImageDataGenerator(\n",
    "    featurewise_center=False,\n",
    "    samplewise_center=False,\n",
    "    featurewise_std_normalization=False,\n",
    "    samplewise_std_normalization=False,\n",
    "    zca_whitening=False,\n",
    "    zca_epsilon=1e-6,\n",
    "    rotation_range=0.,\n",
    "    width_shift_range=0.,\n",
    "    height_shift_range=0.,\n",
    "    shear_range=0.0,\n",
    "    zoom_range=0.,\n",
    "    channel_shift_range=0.,\n",
    "    fill_mode='nearest',\n",
    "    cval=0.,\n",
    "    horizontal_flip=False,\n",
    "    vertical_flip=False,\n",
    "    rescale=None,\n",
    "    preprocessing_function=preprocess_input,\n",
    "    data_format='channels_last',)\n",
    "\n",
    "train_batch_size = 64\n",
    "validation_batch_size = 64\n",
    "train_examples = X_train.shape[0]\n",
    "validation_examples = X_test.shape[0]\n",
    "train_data = train_generator.flow(X_train,to_categorical(y_train,2),batch_size=train_batch_size)\n",
    "validation_data = validation_generator.flow(X_test,to_categorical(y_test,2),batch_size=validation_batch_size,shuffle=False)\n",
    "\n",
    "\n",
    "#     ctr = 0\n",
    "#     for batch in train_data:\n",
    "#         im = np.squeeze(batch[0][6,:])\n",
    "#         print(im.shape)\n",
    "#         plt.imshow(im)\n",
    "#         ctr += 1\n",
    "#         if ctr > 0:\n",
    "#             break"
   ]
  },
  {
   "cell_type": "code",
   "execution_count": 13,
   "metadata": {},
   "outputs": [
    {
     "name": "stdout",
     "output_type": "stream",
     "text": [
      "0.748456790123\n"
     ]
    }
   ],
   "source": [
    "print(1-np.sum(y_train)/len(y_train))"
   ]
  },
  {
   "cell_type": "code",
   "execution_count": 31,
   "metadata": {
    "collapsed": true
   },
   "outputs": [],
   "source": [
    "#Set up inception v3 for transfer learning\n",
    "base_model = InceptionV3(weights='imagenet',include_top=False)"
   ]
  },
  {
   "cell_type": "code",
   "execution_count": 41,
   "metadata": {
    "collapsed": true
   },
   "outputs": [],
   "source": [
    "from keras.layers import Dense, GlobalAveragePooling2D\n",
    "from keras.models import Model\n",
    "\n",
    "x = base_model.output\n",
    "x = GlobalAveragePooling2D()(x)\n",
    "x = Dense(256,activation='relu')(x)\n",
    "predictions = Dense(2,activation='softmax')(x)\n",
    "\n",
    "\n",
    "    \n",
    "model = Model(inputs=base_model.input,outputs=predictions)\n",
    "\n",
    "for layer in base_model.layers:\n",
    "    layer.trainable = False\n",
    "\n",
    "model.compile(optimizer='adam',\n",
    "             loss='binary_crossentropy',\n",
    "             metrics=['accuracy'])\n",
    "\n"
   ]
  },
  {
   "cell_type": "code",
   "execution_count": 42,
   "metadata": {},
   "outputs": [
    {
     "name": "stdout",
     "output_type": "stream",
     "text": [
      "Epoch 1/30\n",
      "11/10 [================================] - 7s - loss: 0.8586 - acc: 0.6169 - val_loss: 0.6706 - val_acc: 0.7222\n",
      "Epoch 2/30\n",
      "11/10 [================================] - 4s - loss: 0.5410 - acc: 0.7557 - val_loss: 0.5496 - val_acc: 0.7222\n",
      "Epoch 3/30\n",
      "11/10 [================================] - 4s - loss: 0.4492 - acc: 0.7915 - val_loss: 0.5273 - val_acc: 0.7222\n",
      "Epoch 4/30\n",
      "11/10 [================================] - 4s - loss: 0.3971 - acc: 0.8383 - val_loss: 0.5156 - val_acc: 0.7500\n",
      "Epoch 5/30\n",
      "11/10 [================================] - 4s - loss: 0.3707 - acc: 0.8521 - val_loss: 0.5107 - val_acc: 0.7593\n",
      "Epoch 6/30\n",
      "11/10 [================================] - 4s - loss: 0.3938 - acc: 0.8421 - val_loss: 0.4815 - val_acc: 0.7917\n",
      "Epoch 7/30\n",
      "11/10 [================================] - 4s - loss: 0.3351 - acc: 0.8793 - val_loss: 0.4730 - val_acc: 0.7870\n",
      "Epoch 8/30\n",
      "11/10 [================================] - 4s - loss: 0.3242 - acc: 0.8913 - val_loss: 0.4584 - val_acc: 0.8102\n",
      "Epoch 9/30\n",
      "11/10 [================================] - 4s - loss: 0.3175 - acc: 0.8913 - val_loss: 0.4678 - val_acc: 0.7870\n",
      "Epoch 10/30\n",
      "11/10 [================================] - 4s - loss: 0.2881 - acc: 0.8984 - val_loss: 0.4602 - val_acc: 0.7870\n",
      "Epoch 11/30\n",
      "11/10 [================================] - 4s - loss: 0.2602 - acc: 0.9027 - val_loss: 0.4503 - val_acc: 0.7870\n",
      "Epoch 12/30\n",
      "11/10 [================================] - 4s - loss: 0.2660 - acc: 0.8965 - val_loss: 0.4481 - val_acc: 0.7917\n",
      "Epoch 13/30\n",
      "11/10 [================================] - 4s - loss: 0.2637 - acc: 0.8927 - val_loss: 0.4396 - val_acc: 0.8056\n",
      "Epoch 14/30\n",
      "11/10 [================================] - 4s - loss: 0.2689 - acc: 0.9011 - val_loss: 0.5375 - val_acc: 0.7870\n",
      "Epoch 15/30\n",
      "11/10 [================================] - 4s - loss: 0.2785 - acc: 0.8898 - val_loss: 0.4531 - val_acc: 0.8056\n",
      "Epoch 16/30\n",
      "11/10 [================================] - 4s - loss: 0.2188 - acc: 0.9174 - val_loss: 0.4286 - val_acc: 0.7917\n",
      "Epoch 17/30\n",
      "11/10 [================================] - 4s - loss: 0.2440 - acc: 0.9117 - val_loss: 0.4563 - val_acc: 0.8009\n",
      "Epoch 18/30\n",
      "11/10 [================================] - 4s - loss: 0.2710 - acc: 0.9008 - val_loss: 0.5143 - val_acc: 0.7963\n",
      "Epoch 19/30\n",
      "11/10 [================================] - 4s - loss: 0.2485 - acc: 0.8999 - val_loss: 0.4200 - val_acc: 0.8194\n",
      "Epoch 20/30\n",
      "11/10 [================================] - 4s - loss: 0.1881 - acc: 0.9279 - val_loss: 0.4199 - val_acc: 0.8056\n",
      "Epoch 21/30\n",
      "11/10 [================================] - 4s - loss: 0.1921 - acc: 0.9422 - val_loss: 0.4386 - val_acc: 0.8241\n",
      "Epoch 22/30\n",
      "11/10 [================================] - 4s - loss: 0.1810 - acc: 0.9260 - val_loss: 0.4283 - val_acc: 0.7917\n",
      "Epoch 23/30\n",
      "11/10 [================================] - 4s - loss: 0.1679 - acc: 0.9471 - val_loss: 0.4779 - val_acc: 0.7593\n",
      "Epoch 24/30\n",
      "11/10 [================================] - 4s - loss: 0.1571 - acc: 0.9514 - val_loss: 0.4260 - val_acc: 0.8009\n",
      "Epoch 25/30\n",
      "11/10 [================================] - 4s - loss: 0.1681 - acc: 0.9380 - val_loss: 0.4136 - val_acc: 0.8148\n",
      "Epoch 26/30\n",
      "11/10 [================================] - 4s - loss: 0.1767 - acc: 0.9417 - val_loss: 0.4151 - val_acc: 0.8426\n",
      "Epoch 27/30\n",
      "11/10 [================================] - 4s - loss: 0.1361 - acc: 0.9451 - val_loss: 0.4333 - val_acc: 0.8056\n",
      "Epoch 28/30\n",
      "11/10 [================================] - 4s - loss: 0.1552 - acc: 0.9485 - val_loss: 0.4242 - val_acc: 0.8194\n",
      "Epoch 29/30\n",
      "11/10 [================================] - 4s - loss: 0.1414 - acc: 0.9514 - val_loss: 0.4453 - val_acc: 0.7963\n",
      "Epoch 30/30\n",
      "11/10 [================================] - 4s - loss: 0.1588 - acc: 0.9413 - val_loss: 0.4347 - val_acc: 0.8148\n"
     ]
    }
   ],
   "source": [
    "train_steps_per_epoch = train_examples/train_batch_size\n",
    "validation_steps_per_epoch = validation_examples/validation_batch_size\n",
    "num_epochs = 30\n",
    "\n",
    "history = model.fit_generator(generator =train_data,\n",
    "                   steps_per_epoch=train_steps_per_epoch,\n",
    "                   epochs = num_epochs,\n",
    "                   validation_data = validation_data,\n",
    "                   validation_steps = validation_steps_per_epoch,\n",
    "                             class_weight=[1,3])"
   ]
  },
  {
   "cell_type": "code",
   "execution_count": 55,
   "metadata": {},
   "outputs": [
    {
     "name": "stdout",
     "output_type": "stream",
     "text": [
      "[[146  10]\n",
      " [  9  51]]\n",
      "0.912037037037\n"
     ]
    }
   ],
   "source": [
    "from sklearn.metrics import confusion_matrix, accuracy_score\n",
    "#from sklearn.model_selection import accuracy\n",
    "\n",
    "num_slices = 40\n",
    "model_predictions = np.zeros((X_test.shape[0],num_slices))\n",
    "for i in range(num_slices):\n",
    "    X_test_slice = preprocess_data_planar(X[648:],is_training=False,base_slice = 10+i)\n",
    "    #Redefine validation generator to reset\n",
    "    validation_data_for_testing = validation_generator.flow(X_test_slice,to_categorical(y_test,2),batch_size=validation_batch_size,shuffle=False)\n",
    "\n",
    "    model_predictions[:,i] = model.predict_generator(validation_data_for_testing,4)[:,1]\n",
    "#print(model_predictions)\n",
    "y_pred = np.mean(model_predictions,axis=1) > 0.5\n",
    "#print(y_pred)  \n",
    "print(confusion_matrix(y_test,y_pred))\n",
    "print(accuracy_score(y_test,y_pred))\n",
    "#print(np.sum(y_test))"
   ]
  },
  {
   "cell_type": "code",
   "execution_count": 53,
   "metadata": {},
   "outputs": [
    {
     "name": "stdout",
     "output_type": "stream",
     "text": [
      "[[143  13]\n",
      " [ 20  40]]\n",
      "0.847222222222\n"
     ]
    }
   ],
   "source": [
    "print(confusion_matrix(y_test,y_pred))\n",
    "print(accuracy_score(y_test,y_pred))"
   ]
  },
  {
   "cell_type": "code",
   "execution_count": 8,
   "metadata": {
    "collapsed": true
   },
   "outputs": [
    {
     "data": {
      "image/png": "[encoded data removed]",
      "text/plain": [
       "<matplotlib.figure.Figure at 0x7f2f4407f908>"
      ]
     },
     "metadata": {},
     "output_type": "display_data"
    },
    {
     "data": {
      "image/png": "[encoded data removed]",
      "text/plain": [
       "<matplotlib.figure.Figure at 0x7f2f4381d978>"
      ]
     },
     "metadata": {},
     "output_type": "display_data"
    }
   ],
   "source": [
    "def plot_training(history):\n",
    "  acc = history.history['acc']\n",
    "  val_acc = history.history['val_acc']\n",
    "  loss = history.history['loss']\n",
    "  val_loss = history.history['val_loss']\n",
    "  epochs = range(len(acc))\n",
    "\n",
    "  plt.plot(epochs, acc, 'r.')\n",
    "  plt.plot(epochs, val_acc, 'r')\n",
    "  plt.title('Training and validation accuracy')\n",
    "\n",
    "  plt.figure()\n",
    "  plt.plot(epochs, loss, 'r.')\n",
    "  plt.plot(epochs, val_loss, 'r-')\n",
    "  plt.title('Training and validation loss')\n",
    "  plt.show()\n",
    "\n",
    "plot_training(history)"
   ]
  }
 ],
 "metadata": {
  "kernelspec": {
   "display_name": "Python 3",
   "language": "python",
   "name": "python3"
  },
  "language_info": {
   "codemirror_mode": {
    "name": "ipython",
    "version": 3
   },
   "file_extension": ".py",
   "mimetype": "text/x-python",
   "name": "python",
   "nbconvert_exporter": "python",
   "pygments_lexer": "ipython3",
   "version": "3.6.1"
  }
 },
 "nbformat": 4,
 "nbformat_minor": 2
}
