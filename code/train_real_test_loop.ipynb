{
 "cells": [
  {
   "cell_type": "code",
   "execution_count": 1,
   "metadata": {
    "collapsed": false,
    "deletable": true,
    "editable": true
   },
   "outputs": [
    {
     "name": "stderr",
     "output_type": "stream",
     "text": [
      "Using TensorFlow backend.\n"
     ]
    }
   ],
   "source": [
    "import os\n",
    "import numpy as np\n",
    "import nibabel as nib\n",
    "import matplotlib\n",
    "import matplotlib.pyplot as plt\n",
    "from scipy.misc import imresize, imrotate\n",
    "import keras\n",
    "from keras.preprocessing.image import ImageDataGenerator\n",
    "from keras.applications.inception_v3 import preprocess_input, InceptionV3\n",
    "from keras.utils import to_categorical\n",
    "from sklearn.model_selection import train_test_split\n",
    "from keras.layers import Dense, GlobalAveragePooling2D\n",
    "from keras.models import Model\n",
    "import keras.backend as K\n",
    "from keras import models\n",
    "from keras.callbacks import ModelCheckpoint\n",
    "from time import gmtime, strftime\n",
    "from sklearn.metrics import confusion_matrix, accuracy_score, precision_score, classification_report\n",
    "from sklearn.svm import SVC\n",
    "from sklearn.ensemble import RandomForestClassifier\n",
    "from sklearn.externals import joblib\n",
    "\n",
    "root_dir = os.path.abspath('..')\n",
    "%matplotlib inline"
   ]
  },
  {
   "cell_type": "code",
   "execution_count": 2,
   "metadata": {
    "collapsed": false,
    "deletable": true,
    "editable": true
   },
   "outputs": [],
   "source": [
    "def fetch_real_data(base_dir,num_subjects):\n",
    "    '''Load in simulated data and motion files.'''\n",
    "    subject_list = os.listdir((os.path.join(base_dir)))\n",
    "    subject_list = [item for item in subject_list if item.startswith('sub') == True] #Filter everything but subjects\n",
    "    subject_list = sorted(subject_list) #sort in numerical order to make OS independent\n",
    "    counter = 0\n",
    "    num_vols=172\n",
    "    X = np.zeros((num_vols*num_subjects,128,128,64))\n",
    "    y = np.zeros(num_vols*num_subjects)\n",
    "    X_subject = np.zeros((128,128,64,num_vols))\n",
    "    y_subject = np.zeros(num_vols)\n",
    "    for subject_index, subject_number in enumerate(subject_list):\n",
    "        if subject_index < num_subjects:\n",
    "            data_path = os.path.join(base_dir,subject_number,'dwi.nii.gz')\n",
    "            if os.path.isfile(data_path):\n",
    "                data_header = nib.load(data_path)\n",
    "                X_subject = data_header.get_data()\n",
    "                y_subject = np.load(os.path.join(base_dir,subject_number,'y_manual.npy'))\n",
    "                start_index = counter*num_vols\n",
    "                end_index = (counter+1)*num_vols\n",
    "                X[start_index:end_index,:] = np.moveaxis(X_subject,3,0)\n",
    "                y[start_index:end_index] = y_subject\n",
    "                counter += 1\n",
    "    return X,y\n",
    "\n",
    "def preprocess_data_coronal(X,target_height=299,target_width=299, base_slice=64,rescale=False,):\n",
    "    '''Convert each MR volume to three slices through a single plane, scales the data and resamples\n",
    "    to 299 by 299 pixels. Optionally performs augmentation.'''   \n",
    "    #slices = [22,36,50] #Planes to slice\n",
    "    slices = np.array([base_slice,base_slice,base_slice]) #Planes to slice\n",
    "    pad_max = np.max([X.shape[1],X.shape[3]]) #Width to pad images to\n",
    "    \n",
    "    num_volumes = X.shape[0]\n",
    "    height = X.shape[1]\n",
    "    width = X.shape[3]\n",
    "    num_slices = X.shape[2]\n",
    "    X_preprocessed = np.zeros((num_volumes,target_height,target_width,3))\n",
    "\n",
    "    for i in range(num_volumes):\n",
    "        for j in range(3):\n",
    "            if (j == 0):\n",
    "                X_preprocessed[i,:,:,j] = imresize(pad_image(np.squeeze(X[i,:,slices[j],:]),pad_max),(target_width,target_height))\n",
    "            if (j == 1):\n",
    "                X_preprocessed[i,:,:,j] = imresize(pad_image(np.squeeze(X[i,:,slices[j],:]),pad_max),(target_width,target_height))\n",
    "            if (j == 2):\n",
    "                X_preprocessed[i,:,:,j] = imresize(pad_image(np.squeeze(X[i,:,slices[j],:]),pad_max),(target_width,target_height))     \n",
    "   \n",
    "    if rescale == True:\n",
    "        X_preprocessed = X_preprocessed.astype(np.float32)\n",
    "        X_preprocessed/= 255\n",
    "        percentile =np.percentile(X_preprocessed,99.9)\n",
    "        X_preprocessed[X_preprocessed>percentile] = percentile\n",
    "        X_preprocessed/=percentile\n",
    "        X_preprocessed -= 0.5\n",
    "        X_preprocessed *= 2.\n",
    "    return X_preprocessed\n",
    "\n",
    "def preprocess_data_saggital(X,target_height=299,target_width=299, base_slice=64,rescale=False,):\n",
    "    '''Convert each MR volume to three slices through a single plane, scales the data and resamples\n",
    "    to 299 by 299 pixels. Optionally performs augmentation.'''   \n",
    "    #slices = [22,36,50] #Planes to slice\n",
    "    slices = np.array([base_slice,base_slice,base_slice]) #Planes to slice\n",
    "    pad_max = np.max([X.shape[1],X.shape[3]]) #Width to pad images to\n",
    "    \n",
    "    num_volumes = X.shape[0]\n",
    "    height = X.shape[1]\n",
    "    width = X.shape[2]\n",
    "    num_slices = X.shape[3]\n",
    "    X_preprocessed = np.zeros((num_volumes,target_height,target_width,3))\n",
    "\n",
    "    for i in range(num_volumes):\n",
    "        for j in range(3):\n",
    "            if (j == 0):\n",
    "                X_preprocessed[i,:,:,j] = imresize(pad_image(np.squeeze(X[i,slices[j],:,:]),pad_max),(target_width,target_height))\n",
    "            if (j == 1):\n",
    "                X_preprocessed[i,:,:,j] = imresize(pad_image(np.squeeze(X[i,slices[j],:,:]),pad_max),(target_width,target_height))\n",
    "            if (j == 2):\n",
    "                X_preprocessed[i,:,:,j] = imresize(pad_image(np.squeeze(X[i,slices[j],:,:]),pad_max),(target_width,target_height))     \n",
    "   \n",
    "    if rescale == True:\n",
    "        X_preprocessed = X_preprocessed.astype(np.float32)\n",
    "        X_preprocessed/= 255\n",
    "        percentile =np.percentile(X_preprocessed,99.9)\n",
    "        X_preprocessed[X_preprocessed>percentile] = percentile\n",
    "        X_preprocessed/=percentile\n",
    "        X_preprocessed -= 0.5\n",
    "        X_preprocessed *= 2.\n",
    "    return X_preprocessed\n",
    "\n",
    "def pad_image(image,pad_max):\n",
    "    if pad_max == 0:\n",
    "        return image\n",
    "    else:\n",
    "        pad_width = np.array([[pad_max,pad_max],[pad_max,pad_max]])-[image.shape,image.shape]\n",
    "        pad_width=np.transpose(pad_width)\n",
    "        pad_width[:,0] = np.floor(pad_width[:,0]/2)\n",
    "        pad_width[:,1] = np.ceil(pad_width[:,1]/2)\n",
    "        return np.lib.pad(image,pad_width,'constant',constant_values=(0))\n",
    "    \n",
    "def preprocess_input_scaling(x):\n",
    "        x=x.astype(np.float32)\n",
    "        x /= 255.\n",
    "        percentile =np.percentile(x,99.9)\n",
    "        x[x>percentile] = percentile\n",
    "        x/=percentile\n",
    "        x -= 0.5\n",
    "        x *= 2.\n",
    "        return x\n",
    "    \n",
    "def save_model(model,filepath):\n",
    "    if not os.path.isfile(filepath):\n",
    "        model.save(filepath)"
   ]
  },
  {
   "cell_type": "code",
   "execution_count": 3,
   "metadata": {
    "collapsed": false,
    "deletable": true,
    "editable": true
   },
   "outputs": [],
   "source": [
    "def get_data_for_training(view,num_train=5,num_test=2):\n",
    "    #view = 'coronal'\n",
    "    #view = 'saggital'\n",
    "\n",
    "    num_to_fetch = num_train + num_test\n",
    "    X,y = fetch_real_data('../data/sourcedata/',num_to_fetch)\n",
    "    print(X.shape,y.shape)\n",
    "\n",
    "    num_vols = 172\n",
    "\n",
    "    slices_to_extract = [50,64,80]\n",
    "\n",
    "    X_train = np.zeros((num_vols*num_train*len(slices_to_extract),299,299,3))\n",
    "    X_test = np.zeros((num_vols*num_test*len(slices_to_extract),299,299,3))\n",
    "    y_train = np.zeros((num_vols*num_train*len(slices_to_extract)))\n",
    "    y_test = np.zeros((num_vols*num_test*len(slices_to_extract)))\n",
    "\n",
    "    for slice_num, slice_indx in enumerate(slices_to_extract):\n",
    "        start_indx_train = slice_num * num_vols*num_train\n",
    "        end_indx_train = (slice_num+1) * num_vols*num_train\n",
    "        start_indx_test = slice_num * num_vols*num_test\n",
    "        end_indx_test = (slice_num+1) * num_vols*num_test\n",
    "        if view == 'saggital':\n",
    "            X_preprocessed = preprocess_data_saggital(X,base_slice=slice_indx)\n",
    "        elif view == 'coronal':\n",
    "            X_preprocessed = preprocess_data_coronal(X,base_slice=slice_indx)\n",
    "        else:\n",
    "            print('View not recognised')    \n",
    "        X_train[start_indx_train:end_indx_train,:] = X_preprocessed[:num_vols*num_train]\n",
    "        X_test[start_indx_test:end_indx_test,:] = X_preprocessed[num_vols*num_train:]\n",
    "        y_train[start_indx_train:end_indx_train]= y[:num_vols*num_train]\n",
    "        y_test[start_indx_test:end_indx_test]=y[num_vols*num_train:]\n",
    "\n",
    "    y_train = (y_train!=0)\n",
    "    y_test = (y_test!=0)\n",
    "\n",
    "    print('Train shape X',X_train.shape)\n",
    "    print('Train shape y',X_train.shape)\n",
    "\n",
    "    print('Test shape X',X_test.shape)\n",
    "    print('Test shape y',y_test.shape)\n",
    "    \n",
    "    return X_train, X_test, y_train, y_test\n"
   ]
  },
  {
   "cell_type": "code",
   "execution_count": 4,
   "metadata": {
    "collapsed": true
   },
   "outputs": [],
   "source": [
    "def setup_model():\n",
    "    #Set up inception v3 for transfer learning\n",
    "    base_model = InceptionV3(weights='imagenet',include_top=False)\n",
    "    x = base_model.output\n",
    "    x = GlobalAveragePooling2D()(x)\n",
    "    x = Dense(16,activation='relu')(x)\n",
    "    predictions = Dense(2,activation='softmax')(x)\n",
    "\n",
    "    model = Model(inputs=base_model.input,outputs=predictions)\n",
    "\n",
    "    for layer in base_model.layers:\n",
    "        layer.trainable = False\n",
    "\n",
    "    model.compile(optimizer='adam',\n",
    "                 loss='binary_crossentropy',\n",
    "                     metrics=['accuracy'])\n",
    "    return model"
   ]
  },
  {
   "cell_type": "code",
   "execution_count": 5,
   "metadata": {
    "collapsed": true
   },
   "outputs": [],
   "source": [
    "def train_model(X_train,X_test,y_train,y_test,model,num_epochs=30):\n",
    "    train_generator = ImageDataGenerator(\n",
    "    preprocessing_function=preprocess_input_scaling,\n",
    "    data_format='channels_last')\n",
    "\n",
    "    validation_generator = ImageDataGenerator(\n",
    "    preprocessing_function=preprocess_input_scaling,\n",
    "    data_format='channels_last',)\n",
    "\n",
    "    train_batch_size = 43\n",
    "    validation_batch_size = 43\n",
    "    train_examples = X_train.shape[0]\n",
    "    validation_examples = X_test.shape[0]\n",
    "    train_data = train_generator.flow(X_train,to_categorical(y_train,2),batch_size=train_batch_size,shuffle=True)\n",
    "    validation_data = validation_generator.flow(X_test,to_categorical(y_test,2),batch_size=validation_batch_size,shuffle=False)\n",
    "    now = strftime(\"%Y-%m-%d-%H-%M-%S\", gmtime())\n",
    "    filename = 'keras_logs/real_'+now+'.epoch{epoch:02d}-lossval{val_loss:.2f}.hdf5'\n",
    "    checkpoint = ModelCheckpoint(filepath=filename,\n",
    "                            period=10)\n",
    "\n",
    "    train_steps_per_epoch = train_examples/train_batch_size\n",
    "    validation_steps_per_epoch = validation_examples/validation_batch_size\n",
    "    print(train_steps_per_epoch)\n",
    "    print(validation_steps_per_epoch)\n",
    "    print('Model name:','real_keras_logs/'+now)\n",
    "    \n",
    "    history = model.fit_generator(generator = train_data,\n",
    "                           steps_per_epoch=train_steps_per_epoch,\n",
    "                           epochs = num_epochs,\n",
    "                           validation_data = validation_data,\n",
    "                           validation_steps = validation_steps_per_epoch,\n",
    "                           class_weight=[1,5],\n",
    "                            callbacks=[checkpoint])\n",
    "    \n",
    "    validation_data = validation_generator.flow(X_test,to_categorical(y_test,2),batch_size=validation_batch_size,shuffle=False)\n",
    "    y_pred = model.predict_generator(validation_data,validation_steps_per_epoch)[:,1] > 0.5\n",
    "    print(confusion_matrix(y_test,y_pred))\n",
    "    return model"
   ]
  },
  {
   "cell_type": "code",
   "execution_count": 8,
   "metadata": {
    "collapsed": true
   },
   "outputs": [],
   "source": [
    "def test_model(X_test,y_test,model_coronal,model_saggital,num_slices):\n",
    "    validation_generator = ImageDataGenerator(\n",
    "    preprocessing_function=preprocess_input_scaling,\n",
    "    data_format='channels_last',)\n",
    "\n",
    "    validation_batch_size = 43\n",
    "    num_validation_steps = X_test.shape[0]/validation_batch_size\n",
    "    model_predictions_coronal = np.zeros((X_test.shape[0],num_slices))\n",
    "    model_predictions_saggital = np.zeros((X_test.shape[0],num_slices))\n",
    "    y_test_fake = np.ones((X_test.shape[0]))\n",
    "\n",
    "    for i in range(num_slices):\n",
    "        #Coronal\n",
    "        X_test_slice = preprocess_data_coronal(X_test[:,10:110,:,:],base_slice = 20+2*i)  \n",
    "        #Redefine validation generator to reset\n",
    "        validation_data_for_testing = validation_generator.flow(X_test_slice,y_test_fake,batch_size=validation_batch_size,shuffle=False)\n",
    "        model_predictions_coronal[:,i] = model_coronal.predict_generator(validation_data_for_testing,num_validation_steps)[:,1]\n",
    "\n",
    "        #saggital\n",
    "        X_test_slice = preprocess_data_saggital(X_test,base_slice = 35+2*i)  \n",
    "        #Redefine validation generator to reset\n",
    "        validation_data_for_testing = validation_generator.flow(X_test_slice,y_test_fake,batch_size=validation_batch_size,shuffle=False)\n",
    "        model_predictions_saggital[:,i] = model_saggital.predict_generator(validation_data_for_testing,num_validation_steps)[:,1]\n",
    "\n",
    "        #print('Slices complete:',i)\n",
    "    predictions_combined = np.concatenate((model_predictions_coronal,model_predictions_saggital),axis=1)\n",
    "    return(predictions_combined)"
   ]
  },
  {
   "cell_type": "code",
   "execution_count": null,
   "metadata": {
    "collapsed": false
   },
   "outputs": [],
   "source": [
    "#Fetch training data\n",
    "X_train_saggital, X_val_saggital, y_train_saggital, y_val_saggital = get_data_for_training('saggital')\n",
    "X_train_coronal, X_val_coronal, y_train_coronal, y_val_coronal = get_data_for_training('coronal')\n",
    "#Fetch test data\n",
    "#X_test,y_test = fetch_real_data('../data/sourcedata/test/',3)\n",
    "\n",
    "print('Baseline performance for val data:',1-np.sum(y_val_coronal)/np.shape(y_val_coronal))\n",
    "#print('Baseline performance for test data:',1-np.sum(y_test)/np.shape(y_test))\n",
    "\n",
    "num_steps=5\n",
    "num_slices = 30\n",
    "\n",
    "#predictions_combined_all=np.zeros((num_steps,X_test.shape[0],num_slices*2))\n",
    "\n",
    "for i in range(2,num_steps+1):\n",
    "    model = setup_model()\n",
    "    model_trained_saggital = train_model(X_train_saggital[:172*3*i],X_val_saggital,y_train_saggital[:172*3*i],y_val_saggital,model,20)\n",
    "    save_model(model_trained_saggital,('keras_logs/saggital_'+str(i)+'.h5'))\n",
    "    model = setup_model()\n",
    "    model_trained_coronal = train_model(X_train_coronal[:172*3*i],X_val_coronal,y_train_coronal[:172*3*i],y_val_coronal,model,20)\n",
    "    save_model(model_trained_coronal,('keras_logs/coronal_'+str(i)+'.h5'))\n",
    "    \n",
    "    #predictions_combined_all[i-1,:,:] = test_model(X_test,y_test,model_trained_coronal,model_trained_saggital,num_slices)\n",
    "    #print(i)\n",
    "    #y_pred = np.mean(predictions_combined_all[i-1,:])>0.5\n",
    "    #print(classification_report(y_test,y_pred))"
   ]
  },
  {
   "cell_type": "code",
   "execution_count": null,
   "metadata": {
    "collapsed": false
   },
   "outputs": [],
   "source": [
    "#Test\n",
    "#Fetch test data\n",
    "X_test,y_test = fetch_real_data('../data/sourcedata/test/',3)\n",
    "\n",
    "num_steps=5\n",
    "num_slices = 30\n",
    "\n",
    "predictions_combined_all=np.zeros((num_steps,X_test.shape[0],num_slices*2))\n",
    "\n",
    "for i in range(2,num_steps+1):\n",
    "    model_trained_saggital = models.load_model('keras_logs/saggital_'+str(i)+'.h5')\n",
    "    model_trained_coronal = models.load_model('keras_logs/coronal_'+str(i)+'.h5')\n",
    "    \n",
    "    predictions_combined_all[i-1,:,:] = test_model(X_test,y_test,model_trained_coronal,model_trained_saggital,num_slices)\n",
    "    predictions_combined = np.squeeze(predictions_combined_all[i-1,:,:])\n",
    "    y_pred = np.mean(predictions_combined,axis=1)>0.5\n",
    "    print(i)\n",
    "    print(classification_report(y_test!=0,y_pred))\n",
    "    print(confusion_matrix(y_test!=0,y_pred))"
   ]
  },
  {
   "cell_type": "code",
   "execution_count": null,
   "metadata": {
    "collapsed": false,
    "deletable": true,
    "editable": true
   },
   "outputs": [],
   "source": [
    "predictions_combined = np.squeeze(predictions_combined_all[i-1,:,:])\n",
    "y_pred = np.mean(predictions_combined,axis=1)>0.5\n",
    "print(i)\n",
    "print(classification_report(y_test!=0,y_pred))\n",
    "print(confusion_matrix(y_test!=0,y_pred))"
   ]
  },
  {
   "cell_type": "markdown",
   "metadata": {
    "deletable": true,
    "editable": true
   },
   "source": [
    "# Visualise "
   ]
  },
  {
   "cell_type": "code",
   "execution_count": null,
   "metadata": {
    "collapsed": false,
    "deletable": true,
    "editable": true
   },
   "outputs": [],
   "source": [
    "#Load back in results\n",
    "y_predictions_combined = np.load('misc_files/predictions_combined_val.npy')\n",
    "y_val = np.load('misc_files/y_val.npy')\n",
    "svm_classifier = joblib.load('misc_files/svm_classifier.pkl') \n",
    "#y_pred_val = svm_classifier.predict(y_predictions_combined)\n",
    "y_pred_val = np.mean(y_predictions_combined,axis=1) > 0.5 \n",
    "print(confusion_matrix(y_val,y_pred_val))\n"
   ]
  },
  {
   "cell_type": "code",
   "execution_count": null,
   "metadata": {
    "collapsed": true,
    "deletable": true,
    "editable": true
   },
   "outputs": [],
   "source": [
    "from sklearn.metrics import accuracy_score, confusion_matrix\n",
    "from matplotlib import animation\n",
    "from matplotlib import animation, rc\n",
    "from IPython.display import HTML\n",
    "\n",
    "\n",
    "ind_true_pos = [indx for indx,y in enumerate(y_val) if (y_val[indx] == 1) and (y_pred_val[indx] == 1) ]\n",
    "ind_true_neg = [indx for indx,y in enumerate(y_val) if (y_val[indx] == 0) and (y_pred_val[indx] == 0) ]\n",
    "ind_false_neg = [indx for indx,y in enumerate(y_val) if (y_val[indx] == 1) and (y_pred_val[indx] == 0) ]\n",
    "ind_false_pos = [indx for indx,y in enumerate(y_val) if (y_val[indx] == 0) and (y_pred_val[indx] == 1) ]"
   ]
  },
  {
   "cell_type": "code",
   "execution_count": null,
   "metadata": {
    "collapsed": true,
    "deletable": true,
    "editable": true
   },
   "outputs": [],
   "source": [
    "#import matplotlib\n",
    "#import matplotlib.pyplot as plt\n",
    "print(y_test)\n",
    "plt.plot(np.linspace(25,54,30),model_predictions[n])\n",
    "plt.title('True:'+str(y_test[n])+' Predicted:'+str(y_pred[n]))"
   ]
  },
  {
   "cell_type": "markdown",
   "metadata": {},
   "source": [
    "# Misc"
   ]
  },
  {
   "cell_type": "code",
   "execution_count": null,
   "metadata": {
    "collapsed": true,
    "deletable": true,
    "editable": true
   },
   "outputs": [],
   "source": [
    "#Look at memory usage of all items in notebook\n",
    "import sys\n",
    "\n",
    "# These are the usual ipython objects, including this one you are creating\n",
    "ipython_vars = ['In', 'Out', 'exit', 'quit', 'get_ipython', 'ipython_vars']\n",
    "\n",
    "# Get a sorted list of the objects and their sizes\n",
    "sorted([(x, sys.getsizeof(globals().get(x))) for x in dir() if not x.startswith('_') and x not in sys.modules and x not in ipython_vars], key=lambda x: x[1], reverse=True)"
   ]
  },
  {
   "cell_type": "code",
   "execution_count": null,
   "metadata": {
    "collapsed": true,
    "deletable": true,
    "editable": true
   },
   "outputs": [],
   "source": [
    "import keras\n",
    "print(keras.__version__)"
   ]
  }
 ],
 "metadata": {
  "anaconda-cloud": {},
  "kernelspec": {
   "display_name": "Python [default]",
   "language": "python",
   "name": "python3"
  },
  "language_info": {
   "codemirror_mode": {
    "name": "ipython",
    "version": 3
   },
   "file_extension": ".py",
   "mimetype": "text/x-python",
   "name": "python",
   "nbconvert_exporter": "python",
   "pygments_lexer": "ipython3",
   "version": "3.5.2"
  }
 },
 "nbformat": 4,
 "nbformat_minor": 2
}
