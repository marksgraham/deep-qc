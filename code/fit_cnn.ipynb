{
 "cells": [
  {
   "cell_type": "code",
   "execution_count": 1,
   "metadata": {
    "collapsed": true,
    "deletable": true,
    "editable": true
   },
   "outputs": [],
   "source": [
    "root_dir = '/Users/markgraham/Dropbox/UCL/Projects/QC/' #local\n",
    "#root_dir = '/home/ec2-user/' #cluster"
   ]
  },
  {
   "cell_type": "code",
   "execution_count": 29,
   "metadata": {
    "collapsed": false,
    "deletable": true,
    "editable": true
   },
   "outputs": [],
   "source": [
    "import numpy as np\n",
    "import os\n",
    "import nibabel as nib\n",
    "import matplotlib\n",
    "import matplotlib.pyplot as plt\n",
    "from scipy.misc import imresize\n",
    "%matplotlib inline\n",
    "\n",
    "def fetch_data(base_dir,num_subjects):\n",
    "    '''Load in simulated data and motion files.'''\n",
    "    subject_list = os.listdir((os.path.join(base_dir)))\n",
    "    subject_list = [item for item in subject_list if item.startswith('.') == False] #Filter .DS_STORE\n",
    "    counter = 0\n",
    "    X = np.zeros((108*num_subjects,72,86,55))\n",
    "    y = np.zeros(108*num_subjects)\n",
    "    X_subject = np.zeros((72,86,55,108))\n",
    "    y_subject = np.zeros(108)\n",
    "    for subject_index, subject_number in enumerate(subject_list):\n",
    "        data_path = os.path.join(base_dir,subject_number,'data.nii.gz')\n",
    "        if os.path.isfile(data_path):\n",
    "            data_header = nib.load(data_path)\n",
    "            X_subject = data_header.get_data()\n",
    "            for i in range(108):\n",
    "                motion = np.loadtxt(os.path.join(base_dir,subject_number,'motion/motion'+str(i)+'.txt'))\n",
    "                y_subject[i] = create_labels(motion)\n",
    "            start_index = counter*108\n",
    "            end_index = (counter+1)*108\n",
    "            X[start_index:end_index,:] = np.moveaxis(X_subject,3,0)\n",
    "            y[start_index:end_index] = y_subject\n",
    "            counter += 1\n",
    "    return X,y\n",
    "\n",
    "def create_labels(motion, translation_threshold=1, rotation_threshold = 1):\n",
    "    '''Take a POSSUM motion file and decide whether it contains signficant intra-volume movement.'''\n",
    "    max_motion = np.max(motion[:,1:],axis=0)\n",
    "    min_motion = np.min(motion[:,1:],axis=0)\n",
    "    diff_motion = np.abs(max_motion-min_motion)\n",
    "    diff_motion[:3] = diff_motion[:3]*1000\n",
    "    diff_motion[3:] = np.rad2deg(diff_motion[3:])\n",
    "    if np.any( diff_motion[:3] > translation_threshold):\n",
    "        return 1\n",
    "    elif np.any(diff_motion[3:] > rotation_threshold):\n",
    "        return 1\n",
    "    else:\n",
    "        return 0\n",
    "    \n",
    "def plot_volumes(X,y):\n",
    "    X = np.moveaxis(X,0,3)\n",
    "    num_volumes = 10\n",
    "    plt.figure(figsize=(10,120))\n",
    "    slices = [43,36,26]\n",
    "    pad_max = np.max(X.shape[:3])\n",
    "    for i in range(num_volumes):\n",
    "        for j in range(3):\n",
    "            plt.subplot(num_volumes,3,i*3+j+1)\n",
    "            if j == 0:\n",
    "                im = pad_image(np.squeeze(X[:,:,slices[j],i]),pad_max)\n",
    "                plt.imshow(np.rot90(im),plt.cm.get_cmap('gray'))\n",
    "                plt.title(y[i])\n",
    "            if j == 1:\n",
    "                im = pad_image(np.squeeze(X[:,slices[j],:,i]),pad_max)\n",
    "                plt.imshow(np.rot90(im),plt.cm.get_cmap('gray'))\n",
    "            if j == 2:\n",
    "                im = pad_image(np.squeeze(X[slices[j],:,:,i]),pad_max)\n",
    "                plt.imshow(np.rot90(im),plt.cm.get_cmap('gray'))\n",
    "            plt.axis('off')\n",
    "    plt.tight_layout()\n",
    "                     \n",
    "def pad_image(image,pad_max):\n",
    "    pad_width = np.array([[pad_max,pad_max],[pad_max,pad_max]])-[image.shape,image.shape]\n",
    "    pad_width=np.transpose(pad_width)\n",
    "    pad_width[:,0] = np.floor(pad_width[:,0]/2)\n",
    "    pad_width[:,1] = np.ceil(pad_width[:,1]/2)\n",
    "    return np.lib.pad(image,pad_width,'constant',constant_values=(0))\n",
    "\n",
    "\n",
    "\n",
    "def preprocess_data_perp(X,target_height=299,target_width=299):\n",
    "    '''Performs minimal pre-processing: convert each MR volume to a stack of 3 \n",
    "    orthogonal planes, scale the data and resample to 299 by 299 pixels'''   \n",
    "    slices = [26,36,26] #Planes to slice\n",
    "    pad_max = np.max(X.shape[1:]) #Width to pad images to\n",
    "    num_volumes = X.shape[0]\n",
    "    X_preprocessed = np.zeros((num_volumes,target_height,target_width,3))\n",
    "    for i in range(num_volumes):\n",
    "        for j in range(3):\n",
    "            if (j == 0):\n",
    "                X_preprocessed[i,:,:,j] = imresize(pad_image(np.squeeze(X[i,:,:,slices[j]]),pad_max),(target_width,target_height))\n",
    "            if (j == 1):\n",
    "                X_preprocessed[i,:,:,j] = imresize(pad_image(np.squeeze(X[i,:,slices[j],:]),pad_max),(target_width,target_height))\n",
    "            if (j == 2):\n",
    "                X_preprocessed[i,:,:,j] = imresize(pad_image(np.squeeze(X[i,slices[j],:,:]),pad_max),(target_width,target_height))     \n",
    "                \n",
    "    return X_preprocessed.astype(np.float32) / 255\n",
    "\n",
    "def preprocess_data_planar(X,target_height=299,target_width=299):\n",
    "    '''Performs minimal pre-processing: convert each MR volume to a stack of 3 \n",
    "    orthogonal planes, scale the data and resample to 299 by 299 pixels'''   \n",
    "    slices = [22,36,50] #Planes to slice\n",
    "    pad_max = np.max(X.shape[2:]) #Width to pad images to\n",
    "    num_volumes = X.shape[0]\n",
    "    X_preprocessed = np.zeros((num_volumes,target_height,target_width,3))\n",
    "    for i in range(num_volumes):\n",
    "        for j in range(3):\n",
    "            if (j == 0):\n",
    "                X_preprocessed[i,:,:,j] = imresize(pad_image(np.squeeze(X[i,slices[j],:,:]),pad_max),(target_width,target_height))\n",
    "            if (j == 1):\n",
    "                X_preprocessed[i,:,:,j] = imresize(pad_image(np.squeeze(X[i,slices[j],:,:]),pad_max),(target_width,target_height))\n",
    "            if (j == 2):\n",
    "                X_preprocessed[i,:,:,j] = imresize(pad_image(np.squeeze(X[i,slices[j],:,:]),pad_max),(target_width,target_height))     \n",
    "                \n",
    "    return X_preprocessed.astype(np.float32) / 255"
   ]
  },
  {
   "cell_type": "code",
   "execution_count": 27,
   "metadata": {
    "collapsed": false,
    "deletable": true,
    "editable": true
   },
   "outputs": [],
   "source": [
    "from sklearn.model_selection import train_test_split\n",
    "\n",
    "X, y = fetch_data(os.path.join(root_dir,'data/sims'),8)\n",
    "X_train, X_test, y_train, y_test = train_test_split(X,y,stratify=y,random_state=42) \n"
   ]
  },
  {
   "cell_type": "code",
   "execution_count": null,
   "metadata": {
    "collapsed": true
   },
   "outputs": [],
   "source": [
    "#Set up the inception v3 on data by stacking 3 perpendicular slices\n",
    "import tensorflow as tf\n",
    "from tensorflow.contrib.layers import fully_connected\n",
    "from tensorflow.contrib.slim.nets import inception\n",
    "import tensorflow.contrib.slim as slim\n",
    "\n",
    "tf.reset_default_graph()\n",
    "\n",
    "num_outputs = 2\n",
    "\n",
    "X = tf.placeholder(tf.float32, shape=(None, 299, 299, 3),name=\"X\") \n",
    "y = tf.placeholder(tf.int64, shape=(None), name=\"y\")\n",
    "\n",
    "\n",
    "with slim.arg_scope(inception.inception_v3_arg_scope()):\n",
    "    logits, end_points = inception.inception_v3(X, num_classes=1001, is_training=False)\n",
    "\n",
    "#Define the scopes that you want to exclude for restoration\n",
    "exclude = ['InceptionResnetV3/Logits', 'InceptionResnetV3/AuxLogits']\n",
    "variables_to_restore = slim.get_variables_to_restore(exclude = exclude)\n",
    "saver = tf.train.Saver(variables_to_restore)\n",
    "\n",
    "with tf.Session() as sess:\n",
    "    #saver.restore(sess,'models/inception_v3.ckpt');   \n",
    "    last_layer = logits.op.inputs[0].op.inputs[0].op.inputs[0]\n",
    "    last_layer_squeezed = tf.squeeze(last_layer,axis=[1,2])\n",
    "    with tf.name_scope(\"output\"):\n",
    "        he_init = tf.contrib.layers.variance_scaling_initializer() #use the He initialisation scheme\n",
    "        logits = fully_connected(last_layer_squeezed,num_outputs,activation_fn=None,weights_initializer = he_init,scope=\"logits\")\n",
    "        softmax_score = tf.nn.sparse_softmax_cross_entropy_with_logits(labels=y,logits=logits)\n",
    "        loss = tf.reduce_mean(softmax_score,name=\"loss\")\n",
    "    with tf.name_scope(\"train\"):\n",
    "        optimizer = tf.train.MomentumOptimizer(learning_rate=0.01,momentum=0.95)\n",
    "        #train_vars = tf.get_collection(tf.GraphKeys.TRAINABLE_VARIABLES,scope=\"InceptionV3/Mixed_7c/|logits\")\n",
    "        train_vars = tf.get_collection(tf.GraphKeys.TRAINABLE_VARIABLES,scope=\"logits\")\n",
    "        training_op = optimizer.minimize(loss,var_list=train_vars)\n",
    "    with tf.name_scope(\"eval\"):   \n",
    "        correct = tf.nn.in_top_k(logits, y, 1)\n",
    "        accuracy = tf.reduce_mean(tf.cast(correct, tf.float32))    \n",
    "    init = tf.global_variables_initializer()"
   ]
  },
  {
   "cell_type": "code",
   "execution_count": null,
   "metadata": {
    "collapsed": false,
    "deletable": true,
    "editable": true
   },
   "outputs": [
    {
     "name": "stdout",
     "output_type": "stream",
     "text": [
      "INFO:tensorflow:Restoring parameters from models/inception_v3.ckpt\n",
      "Epoch: 0 train loss: 0.463137 train acc: 0.765 val acc: 0.791667 time: 771.4874019622803\n",
      "Epoch: 1 train loss: 0.333595 train acc: 0.865 val acc: 0.800926 time: 719.3963739871979\n",
      "Epoch: 2 train loss: 0.320934 train acc: 0.8775 val acc: 0.805556 time: 724.5533320903778\n",
      "Epoch: 3 train loss: 0.278326 train acc: 0.8975 val acc: 0.824074 time: 775.6343829631805\n",
      "Epoch: 4 train loss: 0.258108 train acc: 0.9175 val acc: 0.837963 time: 759.7265949249268\n",
      "Epoch: 5 train loss: 0.259908 train acc: 0.905 val acc: 0.837963 time: 796.8707420825958\n"
     ]
    }
   ],
   "source": [
    "#Train\n",
    "import time\n",
    "preprocess_function = preprocess_data_planar\n",
    "X_train_preprocessed = preprocess_function(X_train)\n",
    "X_test_preprocessed = preprocess_function(X_test)\n",
    "\n",
    "num_epochs = 10\n",
    "train_size = X_train_preprocessed.shape[0]\n",
    "batch_size = 20\n",
    "num_batches = np.floor(train_size / batch_size).astype(np.int16)\n",
    "\n",
    "def get_batch(X,y,batch_size,batch_index):\n",
    "    start_index = batch_index * batch_size\n",
    "    end_index = (batch_index + 1) * batch_size\n",
    "    return X[start_index:end_index,:], y[start_index:end_index]\n",
    "    \n",
    "\n",
    "with tf.Session() as sess:\n",
    "    sess.run(init)\n",
    "    saver.restore(sess,'models/inception_v3.ckpt');   \n",
    "    for epoch in range(num_epochs):\n",
    "        t0=time.time()\n",
    "        for index in range(num_batches):\n",
    "            X_batch, y_batch = get_batch(X_train_preprocessed,y_train,batch_size,index)\n",
    "            sess.run(training_op,feed_dict={X:X_batch,y:y_batch})\n",
    "        #Test accuracy on roughly half of train set (for memory issues) and full test set    \n",
    "        X_batch, y_batch = get_batch(X_train_preprocessed,y_train,400,0)    \n",
    "        acc_train = accuracy.eval(feed_dict={X: X_batch, y: y_batch})\n",
    "        loss_train = loss.eval(feed_dict={X: X_batch, y: y_batch})\n",
    "        acc_test = accuracy.eval(feed_dict={X: X_test_preprocessed, y: y_test})\n",
    "        t1=time.time()\n",
    "        print('Epoch:',epoch,'train loss:',loss_train,\"train acc:\", acc_train,\"val acc:\", acc_test,\"time:\",t1-t0)\n",
    "    print(\"Training finished.\")"
   ]
  },
  {
   "cell_type": "code",
   "execution_count": null,
   "metadata": {
    "collapsed": true
   },
   "outputs": [],
   "source": [
    "#Train accuracy if classified everything as 0:\n",
    "print((y_train.shape-sum(y_train))/y_train.shape)\n",
    "\n",
    "#Train accuracy if classified everything as 0:\n",
    "print((y_test.shape-sum(y_test))/y_test.shape)"
   ]
  },
  {
   "cell_type": "code",
   "execution_count": 43,
   "metadata": {
    "collapsed": false,
    "deletable": true,
    "editable": true
   },
   "outputs": [
    {
     "data": {
      "text/plain": [
       "(567, 299, 299, 3)"
      ]
     },
     "execution_count": 43,
     "metadata": {},
     "output_type": "execute_result"
    }
   ],
   "source": [
    "X_train_preprocessed.shape"
   ]
  },
  {
   "cell_type": "code",
   "execution_count": 44,
   "metadata": {
    "collapsed": false,
    "deletable": true,
    "editable": true
   },
   "outputs": [
    {
     "data": {
      "text/plain": [
       "(567,)"
      ]
     },
     "execution_count": 44,
     "metadata": {},
     "output_type": "execute_result"
    }
   ],
   "source": [
    "y_train.shape"
   ]
  },
  {
   "cell_type": "code",
   "execution_count": null,
   "metadata": {
    "collapsed": true
   },
   "outputs": [],
   "source": [
    "def manual_qc():\n",
    "    '''Allows you to manually input indices for corrupted volumes.'''\n",
    "    y_locations = []\n",
    "    a=[]\n",
    "    while a is not 'q':\n",
    "        a = input('input')\n",
    "        if a is not 'q':\n",
    "            y_locations.append(a)\n",
    "    y_human = np.zeros(108)\n",
    "    for i in y_locations:\n",
    "        y_human[int(i)] = 1\n",
    "    return y_human\n",
    "\n",
    "y_human = manual_qc()\n",
    "#y_human = np.load('y_manual_103414.npy')    \n"
   ]
  },
  {
   "cell_type": "code",
   "execution_count": 348,
   "metadata": {
    "collapsed": false,
    "deletable": true,
    "editable": true
   },
   "outputs": [
    {
     "data": {
      "text/plain": [
       "(array([[70,  0],\n",
       "        [14, 24]]), <matplotlib.colors.LinearSegmentedColormap at 0x1076d04e0>)"
      ]
     },
     "execution_count": 348,
     "metadata": {},
     "output_type": "execute_result"
    }
   ],
   "source": [
    "from sklearn.metrics import accuracy_score, precision_score, confusion_matrix\n",
    "\n",
    "confusion_matrix(y,y_human),plt.cm.get_cmap('gray')\n",
    "#Confusioon matrix shows I accurately identified 24 of the corrupted volumes, missed 14 and didn't misidentify\n",
    "#any non-corrupt volumes\n",
    "#missed_volumes = y - y_human\n",
    "#for index, value in enumerate(missed_volumes):\n",
    "#    print(index,value)"
   ]
  },
  {
   "cell_type": "code",
   "execution_count": 46,
   "metadata": {
    "collapsed": false,
    "deletable": true,
    "editable": true
   },
   "outputs": [
    {
     "data": {
      "text/plain": [
       "1.0"
      ]
     },
     "execution_count": 46,
     "metadata": {},
     "output_type": "execute_result"
    },
    {
     "data": {
      "image/png": "[encoded data removed]",
      "text/plain": [
       "<matplotlib.figure.Figure at 0x1136280f0>"
      ]
     },
     "metadata": {},
     "output_type": "display_data"
    }
   ],
   "source": [
    "#X_train_preprocessed = preprocess_data_planar(X_test)\n",
    "\n",
    "im = 60\n",
    "\n",
    "plt.figure(figsize=(10,20))\n",
    "plt.subplot(1,3,1)\n",
    "plt.imshow(X_train_preprocessed[im,:,:,0],plt.cm.get_cmap('gray'), vmin=0, vmax=1); plt.axis('off')\n",
    "plt.subplot(1,3,2)\n",
    "plt.imshow(X_train_preprocessed[im,:,:,1],plt.cm.get_cmap('gray'), vmin=0, vmax=1); plt.axis('off')\n",
    "plt.subplot(1,3,3)\n",
    "plt.imshow(X_train_preprocessed[im,:,:,2],plt.cm.get_cmap('gray'), vmin=0, vmax=1); plt.axis('off')\n",
    "plt.cm.get_cmap('gray')\n",
    "\n",
    "y_test[im]"
   ]
  },
  {
   "cell_type": "code",
   "execution_count": 24,
   "metadata": {
    "collapsed": false
   },
   "outputs": [
    {
     "data": {
      "text/plain": [
       "(648, 72, 86, 55)"
      ]
     },
     "execution_count": 24,
     "metadata": {},
     "output_type": "execute_result"
    }
   ],
   "source": [
    "X_train.shape"
   ]
  }
 ],
 "metadata": {
  "kernelspec": {
   "display_name": "Python 3",
   "language": "python",
   "name": "python3"
  },
  "language_info": {
   "codemirror_mode": {
    "name": "ipython",
    "version": 3
   },
   "file_extension": ".py",
   "mimetype": "text/x-python",
   "name": "python",
   "nbconvert_exporter": "python",
   "pygments_lexer": "ipython3",
   "version": "3.5.2"
  }
 },
 "nbformat": 4,
 "nbformat_minor": 2
}
